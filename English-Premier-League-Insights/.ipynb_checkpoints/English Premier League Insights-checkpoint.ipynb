{
 "cells": [
  {
   "cell_type": "markdown",
   "metadata": {},
   "source": [
    "# English Premier League Insights\n",
    "<br/><br/>\n",
    "### Project Objective:\n",
    "\n",
    "In this project we will try to get more insights about the `EPL` and answer 3 general questions and examine a hypothesis we will propose to predict specific finding.\n",
    "The following questions will be seeked answer for:\n",
    "- Who won most EPL titles ?\n",
    "- Who collected more points cummulatively ?\n",
    "- Most losses during one season ?\n",
    "- Can we predict the EPL winner after `13` game ?"
   ]
  },
  {
   "cell_type": "markdown",
   "metadata": {},
   "source": [
    "### Importing required libaries for this project :"
   ]
  },
  {
   "cell_type": "code",
   "execution_count": 1,
   "metadata": {},
   "outputs": [],
   "source": [
    "# for web scraping import\n",
    "from urllib.request import urlopen\n",
    "from bs4 import BeautifulSoup\n",
    "\n",
    "# for data analysis and visualization import\n",
    "import pandas as pd\n",
    "import matplotlib.pyplot as plt\n",
    "%matplotlib inline"
   ]
  },
  {
   "cell_type": "markdown",
   "metadata": {},
   "source": [
    "### Web Scraping:\n",
    "\n",
    "Let's start with the first table. We will start working on scraping the table that represent the ranking after 38 matches (end of the season)."
   ]
  },
  {
   "cell_type": "code",
   "execution_count": 2,
   "metadata": {},
   "outputs": [
    {
     "data": {
      "text/plain": [
       "bs4.BeautifulSoup"
      ]
     },
     "execution_count": 2,
     "metadata": {},
     "output_type": "execute_result"
    }
   ],
   "source": [
    "url = \"https://www.worldfootball.net/schedule/eng-premier-league-2018-2019-spieltag/38/\"\n",
    "html = urlopen(url)\n",
    "soup = BeautifulSoup(html, \"lxml\")\n",
    "type(soup)"
   ]
  },
  {
   "cell_type": "code",
   "execution_count": 3,
   "metadata": {},
   "outputs": [],
   "source": [
    "# inspecting the page, extract the following table tag\n",
    "table_data = soup.find_all('table', {'class': 'standard_tabelle'})\n",
    "table_data = table_data[1:]"
   ]
  },
  {
   "cell_type": "code",
   "execution_count": 4,
   "metadata": {},
   "outputs": [],
   "source": [
    "# use a for loop extract table rows tags and append them into a list\n",
    "rows = []\n",
    "for item in table_data:\n",
    "    rows.append(item.find_all('tr'))\n",
    "rows = rows[0]  "
   ]
  },
  {
   "cell_type": "code",
   "execution_count": 5,
   "metadata": {},
   "outputs": [
    {
     "data": {
      "text/plain": [
       "['[1, \\n\\n, \\nManchester City\\n, 38, 32, 2, 4, 95:23, 72, 98]',\n",
       " '[2, \\n\\n, \\nLiverpool FC\\n, 38, 30, 7, 1, 89:22, 67, 97]',\n",
       " '[3, \\n\\n, \\nChelsea FC\\n, 38, 21, 9, 8, 63:39, 24, 72]',\n",
       " '[4, \\n\\n, \\nTottenham Hotspur\\n, 38, 23, 2, 13, 67:39, 28, 71]',\n",
       " '[5, \\n\\n, \\nArsenal FC\\n, 38, 21, 7, 10, 73:51, 22, 70]',\n",
       " '[6, \\n\\n, \\nManchester United\\n, 38, 19, 9, 10, 65:54, 11, 66]',\n",
       " '[7, \\n\\n, \\nWolverhampton Wanderers\\n, 38, 16, 9, 13, 47:46, 1, 57]',\n",
       " '[8, \\n\\n, \\nEverton FC\\n, 38, 15, 9, 14, 54:46, 8, 54]',\n",
       " '[9, \\n\\n, \\nLeicester City\\n, 38, 15, 7, 16, 51:48, 3, 52]',\n",
       " '[10, \\n\\n, \\nWest Ham United\\n, 38, 15, 7, 16, 52:55, -3, 52]',\n",
       " '[11, \\n\\n, \\nWatford FC\\n, 38, 14, 8, 16, 52:59, -7, 50]',\n",
       " '[12, \\n\\n, \\nCrystal Palace\\n, 38, 14, 7, 17, 51:53, -2, 49]',\n",
       " '[13, \\n\\n, \\nNewcastle United\\n, 38, 12, 9, 17, 42:48, -6, 45]',\n",
       " '[14, \\n\\n, \\nAFC Bournemouth\\n, 38, 13, 6, 19, 56:70, -14, 45]',\n",
       " '[15, \\n\\n, \\nBurnley FC\\n, 38, 11, 7, 20, 45:68, -23, 40]',\n",
       " '[16, \\n\\n, \\nSouthampton FC\\n, 38, 9, 12, 17, 45:65, -20, 39]',\n",
       " '[17, \\n\\n, \\nBrighton & Hove Albion\\n, 38, 9, 9, 20, 35:60, -25, 36]',\n",
       " '[18, \\n\\n, \\nCardiff City\\n, 38, 10, 4, 24, 34:69, -35, 34]',\n",
       " '[19, \\n\\n, \\nFulham FC\\n, 38, 7, 5, 26, 34:81, -47, 26]',\n",
       " '[20, \\n\\n, \\nHuddersfield Town\\n, 38, 3, 7, 28, 22:76, -54, 16]']"
      ]
     },
     "execution_count": 5,
     "metadata": {},
     "output_type": "execute_result"
    }
   ],
   "source": [
    "# use a for loop extract table cells tags and append them into a list\n",
    "table = []\n",
    "for team in rows:\n",
    "    row_td = team.find_all('td')\n",
    "    row = BeautifulSoup(str(row_td), 'lxml').get_text()\n",
    "    table.append(row)\n",
    "table = table[1:]\n",
    "table"
   ]
  },
  {
   "cell_type": "markdown",
   "metadata": {},
   "source": [
    "Now, the data scraped from the website is ready to be read into pandas."
   ]
  },
  {
   "cell_type": "markdown",
   "metadata": {},
   "source": [
    "### Data Manipulation and Cleaning"
   ]
  },
  {
   "cell_type": "code",
   "execution_count": 6,
   "metadata": {
    "scrolled": true
   },
   "outputs": [
    {
     "data": {
      "text/html": [
       "<div>\n",
       "<style scoped>\n",
       "    .dataframe tbody tr th:only-of-type {\n",
       "        vertical-align: middle;\n",
       "    }\n",
       "\n",
       "    .dataframe tbody tr th {\n",
       "        vertical-align: top;\n",
       "    }\n",
       "\n",
       "    .dataframe thead th {\n",
       "        text-align: right;\n",
       "    }\n",
       "</style>\n",
       "<table border=\"1\" class=\"dataframe\">\n",
       "  <thead>\n",
       "    <tr style=\"text-align: right;\">\n",
       "      <th></th>\n",
       "      <th>0</th>\n",
       "    </tr>\n",
       "  </thead>\n",
       "  <tbody>\n",
       "    <tr>\n",
       "      <th>0</th>\n",
       "      <td>[1, \\n\\n, \\nManchester City\\n, 38, 32, 2, 4, 9...</td>\n",
       "    </tr>\n",
       "    <tr>\n",
       "      <th>1</th>\n",
       "      <td>[2, \\n\\n, \\nLiverpool FC\\n, 38, 30, 7, 1, 89:2...</td>\n",
       "    </tr>\n",
       "    <tr>\n",
       "      <th>2</th>\n",
       "      <td>[3, \\n\\n, \\nChelsea FC\\n, 38, 21, 9, 8, 63:39,...</td>\n",
       "    </tr>\n",
       "  </tbody>\n",
       "</table>\n",
       "</div>"
      ],
      "text/plain": [
       "                                                   0\n",
       "0  [1, \\n\\n, \\nManchester City\\n, 38, 32, 2, 4, 9...\n",
       "1  [2, \\n\\n, \\nLiverpool FC\\n, 38, 30, 7, 1, 89:2...\n",
       "2  [3, \\n\\n, \\nChelsea FC\\n, 38, 21, 9, 8, 63:39,..."
      ]
     },
     "execution_count": 6,
     "metadata": {},
     "output_type": "execute_result"
    }
   ],
   "source": [
    "# read the table into dataframe\n",
    "df = pd.DataFrame(table)\n",
    "df.head(3)"
   ]
  },
  {
   "cell_type": "code",
   "execution_count": 7,
   "metadata": {},
   "outputs": [
    {
     "data": {
      "text/html": [
       "<div>\n",
       "<style scoped>\n",
       "    .dataframe tbody tr th:only-of-type {\n",
       "        vertical-align: middle;\n",
       "    }\n",
       "\n",
       "    .dataframe tbody tr th {\n",
       "        vertical-align: top;\n",
       "    }\n",
       "\n",
       "    .dataframe thead th {\n",
       "        text-align: right;\n",
       "    }\n",
       "</style>\n",
       "<table border=\"1\" class=\"dataframe\">\n",
       "  <thead>\n",
       "    <tr style=\"text-align: right;\">\n",
       "      <th></th>\n",
       "      <th>0</th>\n",
       "      <th>1</th>\n",
       "      <th>2</th>\n",
       "      <th>3</th>\n",
       "      <th>4</th>\n",
       "      <th>5</th>\n",
       "      <th>6</th>\n",
       "      <th>7</th>\n",
       "      <th>8</th>\n",
       "      <th>9</th>\n",
       "    </tr>\n",
       "  </thead>\n",
       "  <tbody>\n",
       "    <tr>\n",
       "      <th>0</th>\n",
       "      <td>[1</td>\n",
       "      <td>\\n\\n</td>\n",
       "      <td>\\nManchester City\\n</td>\n",
       "      <td>38</td>\n",
       "      <td>32</td>\n",
       "      <td>2</td>\n",
       "      <td>4</td>\n",
       "      <td>95:23</td>\n",
       "      <td>72</td>\n",
       "      <td>98]</td>\n",
       "    </tr>\n",
       "    <tr>\n",
       "      <th>1</th>\n",
       "      <td>[2</td>\n",
       "      <td>\\n\\n</td>\n",
       "      <td>\\nLiverpool FC\\n</td>\n",
       "      <td>38</td>\n",
       "      <td>30</td>\n",
       "      <td>7</td>\n",
       "      <td>1</td>\n",
       "      <td>89:22</td>\n",
       "      <td>67</td>\n",
       "      <td>97]</td>\n",
       "    </tr>\n",
       "    <tr>\n",
       "      <th>2</th>\n",
       "      <td>[3</td>\n",
       "      <td>\\n\\n</td>\n",
       "      <td>\\nChelsea FC\\n</td>\n",
       "      <td>38</td>\n",
       "      <td>21</td>\n",
       "      <td>9</td>\n",
       "      <td>8</td>\n",
       "      <td>63:39</td>\n",
       "      <td>24</td>\n",
       "      <td>72]</td>\n",
       "    </tr>\n",
       "  </tbody>\n",
       "</table>\n",
       "</div>"
      ],
      "text/plain": [
       "    0      1                     2    3    4   5   6       7    8     9\n",
       "0  [1   \\n\\n   \\nManchester City\\n   38   32   2   4   95:23   72   98]\n",
       "1  [2   \\n\\n      \\nLiverpool FC\\n   38   30   7   1   89:22   67   97]\n",
       "2  [3   \\n\\n        \\nChelsea FC\\n   38   21   9   8   63:39   24   72]"
      ]
     },
     "execution_count": 7,
     "metadata": {},
     "output_type": "execute_result"
    }
   ],
   "source": [
    "# split rows in to columns\n",
    "df1 = df[0].str.split(',', expand=True)\n",
    "df1.head(3)"
   ]
  },
  {
   "cell_type": "markdown",
   "metadata": {},
   "source": [
    "We need to split `column 7` to two new columns. To do that, first we need copy and add the next two columns `column 8 and 9` to the end of the table, since the new second splitted column will overwrite `column 8`. And to maintain their order too."
   ]
  },
  {
   "cell_type": "code",
   "execution_count": 8,
   "metadata": {},
   "outputs": [
    {
     "data": {
      "text/html": [
       "<div>\n",
       "<style scoped>\n",
       "    .dataframe tbody tr th:only-of-type {\n",
       "        vertical-align: middle;\n",
       "    }\n",
       "\n",
       "    .dataframe tbody tr th {\n",
       "        vertical-align: top;\n",
       "    }\n",
       "\n",
       "    .dataframe thead th {\n",
       "        text-align: right;\n",
       "    }\n",
       "</style>\n",
       "<table border=\"1\" class=\"dataframe\">\n",
       "  <thead>\n",
       "    <tr style=\"text-align: right;\">\n",
       "      <th></th>\n",
       "      <th>0</th>\n",
       "      <th>1</th>\n",
       "      <th>2</th>\n",
       "      <th>3</th>\n",
       "      <th>4</th>\n",
       "      <th>5</th>\n",
       "      <th>6</th>\n",
       "      <th>7</th>\n",
       "      <th>8</th>\n",
       "      <th>9</th>\n",
       "      <th>10</th>\n",
       "      <th>11</th>\n",
       "    </tr>\n",
       "  </thead>\n",
       "  <tbody>\n",
       "    <tr>\n",
       "      <th>0</th>\n",
       "      <td>[1</td>\n",
       "      <td>\\n\\n</td>\n",
       "      <td>\\nManchester City\\n</td>\n",
       "      <td>38</td>\n",
       "      <td>32</td>\n",
       "      <td>2</td>\n",
       "      <td>4</td>\n",
       "      <td>95:23</td>\n",
       "      <td>72</td>\n",
       "      <td>98]</td>\n",
       "      <td>72</td>\n",
       "      <td>98]</td>\n",
       "    </tr>\n",
       "    <tr>\n",
       "      <th>1</th>\n",
       "      <td>[2</td>\n",
       "      <td>\\n\\n</td>\n",
       "      <td>\\nLiverpool FC\\n</td>\n",
       "      <td>38</td>\n",
       "      <td>30</td>\n",
       "      <td>7</td>\n",
       "      <td>1</td>\n",
       "      <td>89:22</td>\n",
       "      <td>67</td>\n",
       "      <td>97]</td>\n",
       "      <td>67</td>\n",
       "      <td>97]</td>\n",
       "    </tr>\n",
       "    <tr>\n",
       "      <th>2</th>\n",
       "      <td>[3</td>\n",
       "      <td>\\n\\n</td>\n",
       "      <td>\\nChelsea FC\\n</td>\n",
       "      <td>38</td>\n",
       "      <td>21</td>\n",
       "      <td>9</td>\n",
       "      <td>8</td>\n",
       "      <td>63:39</td>\n",
       "      <td>24</td>\n",
       "      <td>72]</td>\n",
       "      <td>24</td>\n",
       "      <td>72]</td>\n",
       "    </tr>\n",
       "  </tbody>\n",
       "</table>\n",
       "</div>"
      ],
      "text/plain": [
       "   0      1                     2    3    4   5   6       7    8     9    10  \\\n",
       "0  [1   \\n\\n   \\nManchester City\\n   38   32   2   4   95:23   72   98]   72   \n",
       "1  [2   \\n\\n      \\nLiverpool FC\\n   38   30   7   1   89:22   67   97]   67   \n",
       "2  [3   \\n\\n        \\nChelsea FC\\n   38   21   9   8   63:39   24   72]   24   \n",
       "\n",
       "     11  \n",
       "0   98]  \n",
       "1   97]  \n",
       "2   72]  "
      ]
     },
     "execution_count": 8,
     "metadata": {},
     "output_type": "execute_result"
    }
   ],
   "source": [
    "# copy and add columns 8 and 9 to the end of the table\n",
    "df1[[10,11]] = df1[[8,9]]\n",
    "df1.head(3)"
   ]
  },
  {
   "cell_type": "code",
   "execution_count": 9,
   "metadata": {},
   "outputs": [
    {
     "data": {
      "text/html": [
       "<div>\n",
       "<style scoped>\n",
       "    .dataframe tbody tr th:only-of-type {\n",
       "        vertical-align: middle;\n",
       "    }\n",
       "\n",
       "    .dataframe tbody tr th {\n",
       "        vertical-align: top;\n",
       "    }\n",
       "\n",
       "    .dataframe thead th {\n",
       "        text-align: right;\n",
       "    }\n",
       "</style>\n",
       "<table border=\"1\" class=\"dataframe\">\n",
       "  <thead>\n",
       "    <tr style=\"text-align: right;\">\n",
       "      <th></th>\n",
       "      <th>0</th>\n",
       "      <th>1</th>\n",
       "      <th>2</th>\n",
       "      <th>3</th>\n",
       "      <th>4</th>\n",
       "      <th>5</th>\n",
       "      <th>6</th>\n",
       "      <th>7</th>\n",
       "      <th>8</th>\n",
       "      <th>9</th>\n",
       "      <th>10</th>\n",
       "      <th>11</th>\n",
       "    </tr>\n",
       "  </thead>\n",
       "  <tbody>\n",
       "    <tr>\n",
       "      <th>0</th>\n",
       "      <td>[1</td>\n",
       "      <td>\\n\\n</td>\n",
       "      <td>\\nManchester City\\n</td>\n",
       "      <td>38</td>\n",
       "      <td>32</td>\n",
       "      <td>2</td>\n",
       "      <td>4</td>\n",
       "      <td>95</td>\n",
       "      <td>23</td>\n",
       "      <td>98]</td>\n",
       "      <td>72</td>\n",
       "      <td>98]</td>\n",
       "    </tr>\n",
       "    <tr>\n",
       "      <th>1</th>\n",
       "      <td>[2</td>\n",
       "      <td>\\n\\n</td>\n",
       "      <td>\\nLiverpool FC\\n</td>\n",
       "      <td>38</td>\n",
       "      <td>30</td>\n",
       "      <td>7</td>\n",
       "      <td>1</td>\n",
       "      <td>89</td>\n",
       "      <td>22</td>\n",
       "      <td>97]</td>\n",
       "      <td>67</td>\n",
       "      <td>97]</td>\n",
       "    </tr>\n",
       "    <tr>\n",
       "      <th>2</th>\n",
       "      <td>[3</td>\n",
       "      <td>\\n\\n</td>\n",
       "      <td>\\nChelsea FC\\n</td>\n",
       "      <td>38</td>\n",
       "      <td>21</td>\n",
       "      <td>9</td>\n",
       "      <td>8</td>\n",
       "      <td>63</td>\n",
       "      <td>39</td>\n",
       "      <td>72]</td>\n",
       "      <td>24</td>\n",
       "      <td>72]</td>\n",
       "    </tr>\n",
       "  </tbody>\n",
       "</table>\n",
       "</div>"
      ],
      "text/plain": [
       "   0      1                     2    3    4   5   6    7   8     9    10    11\n",
       "0  [1   \\n\\n   \\nManchester City\\n   38   32   2   4   95  23   98]   72   98]\n",
       "1  [2   \\n\\n      \\nLiverpool FC\\n   38   30   7   1   89  22   97]   67   97]\n",
       "2  [3   \\n\\n        \\nChelsea FC\\n   38   21   9   8   63  39   72]   24   72]"
      ]
     },
     "execution_count": 9,
     "metadata": {},
     "output_type": "execute_result"
    }
   ],
   "source": [
    "# split column 7 to \n",
    "df1[[7,8]] = df1[7].str.split(':', expand=True)\n",
    "df1.head(3)"
   ]
  },
  {
   "cell_type": "code",
   "execution_count": 10,
   "metadata": {},
   "outputs": [
    {
     "data": {
      "text/html": [
       "<div>\n",
       "<style scoped>\n",
       "    .dataframe tbody tr th:only-of-type {\n",
       "        vertical-align: middle;\n",
       "    }\n",
       "\n",
       "    .dataframe tbody tr th {\n",
       "        vertical-align: top;\n",
       "    }\n",
       "\n",
       "    .dataframe thead th {\n",
       "        text-align: right;\n",
       "    }\n",
       "</style>\n",
       "<table border=\"1\" class=\"dataframe\">\n",
       "  <thead>\n",
       "    <tr style=\"text-align: right;\">\n",
       "      <th></th>\n",
       "      <th>0</th>\n",
       "      <th>2</th>\n",
       "      <th>3</th>\n",
       "      <th>4</th>\n",
       "      <th>5</th>\n",
       "      <th>6</th>\n",
       "      <th>7</th>\n",
       "      <th>8</th>\n",
       "      <th>10</th>\n",
       "      <th>11</th>\n",
       "    </tr>\n",
       "  </thead>\n",
       "  <tbody>\n",
       "    <tr>\n",
       "      <th>0</th>\n",
       "      <td>[1</td>\n",
       "      <td>\\nManchester City\\n</td>\n",
       "      <td>38</td>\n",
       "      <td>32</td>\n",
       "      <td>2</td>\n",
       "      <td>4</td>\n",
       "      <td>95</td>\n",
       "      <td>23</td>\n",
       "      <td>72</td>\n",
       "      <td>98]</td>\n",
       "    </tr>\n",
       "    <tr>\n",
       "      <th>1</th>\n",
       "      <td>[2</td>\n",
       "      <td>\\nLiverpool FC\\n</td>\n",
       "      <td>38</td>\n",
       "      <td>30</td>\n",
       "      <td>7</td>\n",
       "      <td>1</td>\n",
       "      <td>89</td>\n",
       "      <td>22</td>\n",
       "      <td>67</td>\n",
       "      <td>97]</td>\n",
       "    </tr>\n",
       "    <tr>\n",
       "      <th>2</th>\n",
       "      <td>[3</td>\n",
       "      <td>\\nChelsea FC\\n</td>\n",
       "      <td>38</td>\n",
       "      <td>21</td>\n",
       "      <td>9</td>\n",
       "      <td>8</td>\n",
       "      <td>63</td>\n",
       "      <td>39</td>\n",
       "      <td>24</td>\n",
       "      <td>72]</td>\n",
       "    </tr>\n",
       "  </tbody>\n",
       "</table>\n",
       "</div>"
      ],
      "text/plain": [
       "   0                     2    3    4   5   6    7   8    10    11\n",
       "0  [1   \\nManchester City\\n   38   32   2   4   95  23   72   98]\n",
       "1  [2      \\nLiverpool FC\\n   38   30   7   1   89  22   67   97]\n",
       "2  [3        \\nChelsea FC\\n   38   21   9   8   63  39   24   72]"
      ]
     },
     "execution_count": 10,
     "metadata": {},
     "output_type": "execute_result"
    }
   ],
   "source": [
    "# drop redundant columns\n",
    "df2 = df1.drop([1,9], axis=1)\n",
    "df2.head(3)"
   ]
  },
  {
   "cell_type": "code",
   "execution_count": 11,
   "metadata": {},
   "outputs": [
    {
     "data": {
      "text/html": [
       "<div>\n",
       "<style scoped>\n",
       "    .dataframe tbody tr th:only-of-type {\n",
       "        vertical-align: middle;\n",
       "    }\n",
       "\n",
       "    .dataframe tbody tr th {\n",
       "        vertical-align: top;\n",
       "    }\n",
       "\n",
       "    .dataframe thead th {\n",
       "        text-align: right;\n",
       "    }\n",
       "</style>\n",
       "<table border=\"1\" class=\"dataframe\">\n",
       "  <thead>\n",
       "    <tr style=\"text-align: right;\">\n",
       "      <th></th>\n",
       "      <th>0</th>\n",
       "      <th>1</th>\n",
       "      <th>2</th>\n",
       "      <th>3</th>\n",
       "      <th>4</th>\n",
       "      <th>5</th>\n",
       "      <th>6</th>\n",
       "      <th>7</th>\n",
       "      <th>8</th>\n",
       "      <th>9</th>\n",
       "    </tr>\n",
       "  </thead>\n",
       "  <tbody>\n",
       "    <tr>\n",
       "      <th>0</th>\n",
       "      <td>1</td>\n",
       "      <td>Manchester City</td>\n",
       "      <td>38</td>\n",
       "      <td>32</td>\n",
       "      <td>2</td>\n",
       "      <td>4</td>\n",
       "      <td>95</td>\n",
       "      <td>23</td>\n",
       "      <td>72</td>\n",
       "      <td>98</td>\n",
       "    </tr>\n",
       "    <tr>\n",
       "      <th>1</th>\n",
       "      <td>2</td>\n",
       "      <td>Liverpool FC</td>\n",
       "      <td>38</td>\n",
       "      <td>30</td>\n",
       "      <td>7</td>\n",
       "      <td>1</td>\n",
       "      <td>89</td>\n",
       "      <td>22</td>\n",
       "      <td>67</td>\n",
       "      <td>97</td>\n",
       "    </tr>\n",
       "    <tr>\n",
       "      <th>2</th>\n",
       "      <td>3</td>\n",
       "      <td>Chelsea FC</td>\n",
       "      <td>38</td>\n",
       "      <td>21</td>\n",
       "      <td>9</td>\n",
       "      <td>8</td>\n",
       "      <td>63</td>\n",
       "      <td>39</td>\n",
       "      <td>24</td>\n",
       "      <td>72</td>\n",
       "    </tr>\n",
       "  </tbody>\n",
       "</table>\n",
       "</div>"
      ],
      "text/plain": [
       "   0                1    2    3   4   5    6   7    8    9\n",
       "0  1  Manchester City   38   32   2   4   95  23   72   98\n",
       "1  2     Liverpool FC   38   30   7   1   89  22   67   97\n",
       "2  3       Chelsea FC   38   21   9   8   63  39   24   72"
      ]
     },
     "execution_count": 11,
     "metadata": {},
     "output_type": "execute_result"
    }
   ],
   "source": [
    "# strip column 0, 2 and 11 from unwanted characters\n",
    "df2[0] = df2[0].str.strip('[')\n",
    "df2[2] = df2[2].str.strip('\\n').str.strip(' \\n')\n",
    "df2[11] = df2[11].str.strip(']')\n",
    "# reset columns labels\n",
    "df2.columns = range(df2.shape[1])\n",
    "df2.head(3)"
   ]
  },
  {
   "cell_type": "markdown",
   "metadata": {},
   "source": [
    "Now the first table is ready, only columns headers are missing."
   ]
  },
  {
   "cell_type": "code",
   "execution_count": 12,
   "metadata": {},
   "outputs": [
    {
     "data": {
      "text/html": [
       "<div>\n",
       "<style scoped>\n",
       "    .dataframe tbody tr th:only-of-type {\n",
       "        vertical-align: middle;\n",
       "    }\n",
       "\n",
       "    .dataframe tbody tr th {\n",
       "        vertical-align: top;\n",
       "    }\n",
       "\n",
       "    .dataframe thead th {\n",
       "        text-align: right;\n",
       "    }\n",
       "</style>\n",
       "<table border=\"1\" class=\"dataframe\">\n",
       "  <thead>\n",
       "    <tr style=\"text-align: right;\">\n",
       "      <th></th>\n",
       "      <th>rank</th>\n",
       "      <th>team</th>\n",
       "      <th>matches_played</th>\n",
       "      <th>wins</th>\n",
       "      <th>drawns</th>\n",
       "      <th>losses</th>\n",
       "      <th>goals_for</th>\n",
       "      <th>goals_against</th>\n",
       "      <th>goals_diff</th>\n",
       "      <th>points</th>\n",
       "    </tr>\n",
       "  </thead>\n",
       "  <tbody>\n",
       "    <tr>\n",
       "      <th>0</th>\n",
       "      <td>1</td>\n",
       "      <td>Manchester City</td>\n",
       "      <td>38</td>\n",
       "      <td>32</td>\n",
       "      <td>2</td>\n",
       "      <td>4</td>\n",
       "      <td>95</td>\n",
       "      <td>23</td>\n",
       "      <td>72</td>\n",
       "      <td>98</td>\n",
       "    </tr>\n",
       "    <tr>\n",
       "      <th>1</th>\n",
       "      <td>2</td>\n",
       "      <td>Liverpool FC</td>\n",
       "      <td>38</td>\n",
       "      <td>30</td>\n",
       "      <td>7</td>\n",
       "      <td>1</td>\n",
       "      <td>89</td>\n",
       "      <td>22</td>\n",
       "      <td>67</td>\n",
       "      <td>97</td>\n",
       "    </tr>\n",
       "    <tr>\n",
       "      <th>2</th>\n",
       "      <td>3</td>\n",
       "      <td>Chelsea FC</td>\n",
       "      <td>38</td>\n",
       "      <td>21</td>\n",
       "      <td>9</td>\n",
       "      <td>8</td>\n",
       "      <td>63</td>\n",
       "      <td>39</td>\n",
       "      <td>24</td>\n",
       "      <td>72</td>\n",
       "    </tr>\n",
       "  </tbody>\n",
       "</table>\n",
       "</div>"
      ],
      "text/plain": [
       "  rank             team matches_played wins drawns losses goals_for  \\\n",
       "0    1  Manchester City             38   32      2      4        95   \n",
       "1    2     Liverpool FC             38   30      7      1        89   \n",
       "2    3       Chelsea FC             38   21      9      8        63   \n",
       "\n",
       "  goals_against goals_diff points  \n",
       "0            23         72     98  \n",
       "1            22         67     97  \n",
       "2            39         24     72  "
      ]
     },
     "execution_count": 12,
     "metadata": {},
     "output_type": "execute_result"
    }
   ],
   "source": [
    "# name the labels of the table\n",
    "df2 = df2.rename(columns=\n",
    "                 {0: 'rank', 1: 'team', 2: 'matches_played', 3: 'wins', 4:'drawns', \n",
    "                  5: 'losses', 6:'goals_for', 7: 'goals_against', 8: 'goals_diff', 9: 'points'\n",
    "                 }\n",
    "                )\n",
    "df2.head(3)"
   ]
  },
  {
   "cell_type": "code",
   "execution_count": 13,
   "metadata": {},
   "outputs": [
    {
     "data": {
      "text/html": [
       "<div>\n",
       "<style scoped>\n",
       "    .dataframe tbody tr th:only-of-type {\n",
       "        vertical-align: middle;\n",
       "    }\n",
       "\n",
       "    .dataframe tbody tr th {\n",
       "        vertical-align: top;\n",
       "    }\n",
       "\n",
       "    .dataframe thead th {\n",
       "        text-align: right;\n",
       "    }\n",
       "</style>\n",
       "<table border=\"1\" class=\"dataframe\">\n",
       "  <thead>\n",
       "    <tr style=\"text-align: right;\">\n",
       "      <th></th>\n",
       "      <th>rank</th>\n",
       "      <th>team</th>\n",
       "      <th>matches_played</th>\n",
       "      <th>wins</th>\n",
       "      <th>drawns</th>\n",
       "      <th>losses</th>\n",
       "      <th>goals_for</th>\n",
       "      <th>goals_against</th>\n",
       "      <th>goals_diff</th>\n",
       "      <th>points</th>\n",
       "      <th>season</th>\n",
       "    </tr>\n",
       "  </thead>\n",
       "  <tbody>\n",
       "    <tr>\n",
       "      <th>0</th>\n",
       "      <td>1</td>\n",
       "      <td>Manchester City</td>\n",
       "      <td>38</td>\n",
       "      <td>32</td>\n",
       "      <td>2</td>\n",
       "      <td>4</td>\n",
       "      <td>95</td>\n",
       "      <td>23</td>\n",
       "      <td>72</td>\n",
       "      <td>98</td>\n",
       "      <td>2018/2019</td>\n",
       "    </tr>\n",
       "    <tr>\n",
       "      <th>1</th>\n",
       "      <td>2</td>\n",
       "      <td>Liverpool FC</td>\n",
       "      <td>38</td>\n",
       "      <td>30</td>\n",
       "      <td>7</td>\n",
       "      <td>1</td>\n",
       "      <td>89</td>\n",
       "      <td>22</td>\n",
       "      <td>67</td>\n",
       "      <td>97</td>\n",
       "      <td>2018/2019</td>\n",
       "    </tr>\n",
       "    <tr>\n",
       "      <th>2</th>\n",
       "      <td>3</td>\n",
       "      <td>Chelsea FC</td>\n",
       "      <td>38</td>\n",
       "      <td>21</td>\n",
       "      <td>9</td>\n",
       "      <td>8</td>\n",
       "      <td>63</td>\n",
       "      <td>39</td>\n",
       "      <td>24</td>\n",
       "      <td>72</td>\n",
       "      <td>2018/2019</td>\n",
       "    </tr>\n",
       "  </tbody>\n",
       "</table>\n",
       "</div>"
      ],
      "text/plain": [
       "  rank             team matches_played wins drawns losses goals_for  \\\n",
       "0    1  Manchester City             38   32      2      4        95   \n",
       "1    2     Liverpool FC             38   30      7      1        89   \n",
       "2    3       Chelsea FC             38   21      9      8        63   \n",
       "\n",
       "  goals_against goals_diff points     season  \n",
       "0            23         72     98  2018/2019  \n",
       "1            22         67     97  2018/2019  \n",
       "2            39         24     72  2018/2019  "
      ]
     },
     "execution_count": 13,
     "metadata": {},
     "output_type": "execute_result"
    }
   ],
   "source": [
    "# add a new column called shows the season\n",
    "df2['season'] = '2018/2019'\n",
    "table_18_19 = df2\n",
    "table_18_19.head(3)"
   ]
  },
  {
   "cell_type": "markdown",
   "metadata": {},
   "source": [
    "Before moving on, we need to check the quality of our table"
   ]
  },
  {
   "cell_type": "code",
   "execution_count": 14,
   "metadata": {},
   "outputs": [
    {
     "name": "stdout",
     "output_type": "stream",
     "text": [
      "<class 'pandas.core.frame.DataFrame'>\n",
      "RangeIndex: 20 entries, 0 to 19\n",
      "Data columns (total 11 columns):\n",
      "rank              20 non-null object\n",
      "team              20 non-null object\n",
      "matches_played    20 non-null object\n",
      "wins              20 non-null object\n",
      "drawns            20 non-null object\n",
      "losses            20 non-null object\n",
      "goals_for         20 non-null object\n",
      "goals_against     20 non-null object\n",
      "goals_diff        20 non-null object\n",
      "points            20 non-null object\n",
      "season            20 non-null object\n",
      "dtypes: object(11)\n",
      "memory usage: 1.8+ KB\n"
     ]
    }
   ],
   "source": [
    "# check table info\n",
    "table_18_19.info()"
   ]
  },
  {
   "cell_type": "markdown",
   "metadata": {},
   "source": [
    "Looks like several values of our table need to be converted to integers, but will do this later.\n",
    "\n",
    "Now our first table is ready, which represent season `2018/2019`. Next we will get the remained 9 season's tables. And since we will use the same process again, it's better to wrap all the steps and codes in one fuction."
   ]
  },
  {
   "cell_type": "code",
   "execution_count": 15,
   "metadata": {},
   "outputs": [
    {
     "data": {
      "text/html": [
       "<div>\n",
       "<style scoped>\n",
       "    .dataframe tbody tr th:only-of-type {\n",
       "        vertical-align: middle;\n",
       "    }\n",
       "\n",
       "    .dataframe tbody tr th {\n",
       "        vertical-align: top;\n",
       "    }\n",
       "\n",
       "    .dataframe thead th {\n",
       "        text-align: right;\n",
       "    }\n",
       "</style>\n",
       "<table border=\"1\" class=\"dataframe\">\n",
       "  <thead>\n",
       "    <tr style=\"text-align: right;\">\n",
       "      <th></th>\n",
       "      <th>rank</th>\n",
       "      <th>team</th>\n",
       "      <th>matches_played</th>\n",
       "      <th>wins</th>\n",
       "      <th>drawns</th>\n",
       "      <th>losses</th>\n",
       "      <th>goals_for</th>\n",
       "      <th>goals_against</th>\n",
       "      <th>goals_diff</th>\n",
       "      <th>points</th>\n",
       "      <th>season</th>\n",
       "    </tr>\n",
       "  </thead>\n",
       "  <tbody>\n",
       "    <tr>\n",
       "      <th>0</th>\n",
       "      <td>1</td>\n",
       "      <td>Manchester City</td>\n",
       "      <td>13</td>\n",
       "      <td>11</td>\n",
       "      <td>2</td>\n",
       "      <td>0</td>\n",
       "      <td>40</td>\n",
       "      <td>5</td>\n",
       "      <td>35</td>\n",
       "      <td>35</td>\n",
       "      <td>2018/2019</td>\n",
       "    </tr>\n",
       "    <tr>\n",
       "      <th>1</th>\n",
       "      <td>2</td>\n",
       "      <td>Liverpool FC</td>\n",
       "      <td>13</td>\n",
       "      <td>10</td>\n",
       "      <td>3</td>\n",
       "      <td>0</td>\n",
       "      <td>26</td>\n",
       "      <td>5</td>\n",
       "      <td>21</td>\n",
       "      <td>33</td>\n",
       "      <td>2018/2019</td>\n",
       "    </tr>\n",
       "    <tr>\n",
       "      <th>2</th>\n",
       "      <td>3</td>\n",
       "      <td>Tottenham Hotspur</td>\n",
       "      <td>13</td>\n",
       "      <td>10</td>\n",
       "      <td>0</td>\n",
       "      <td>3</td>\n",
       "      <td>23</td>\n",
       "      <td>11</td>\n",
       "      <td>12</td>\n",
       "      <td>30</td>\n",
       "      <td>2018/2019</td>\n",
       "    </tr>\n",
       "  </tbody>\n",
       "</table>\n",
       "</div>"
      ],
      "text/plain": [
       "  rank               team matches_played wins drawns losses goals_for  \\\n",
       "0    1    Manchester City             13   11      2      0        40   \n",
       "1    2       Liverpool FC             13   10      3      0        26   \n",
       "2    3  Tottenham Hotspur             13   10      0      3        23   \n",
       "\n",
       "  goals_against goals_diff points     season  \n",
       "0             5         35     35  2018/2019  \n",
       "1             5         21     33  2018/2019  \n",
       "2            11         12     30  2018/2019  "
      ]
     },
     "execution_count": 15,
     "metadata": {},
     "output_type": "execute_result"
    }
   ],
   "source": [
    "# define a function that take arguments 'url' and 'season' and return season table\n",
    "def get_pl_table(url, season):\n",
    "    html = urlopen(url)\n",
    "    soup = BeautifulSoup(html, \"lxml\")\n",
    "    \n",
    "    table_data = soup.find_all('table', {'class': 'standard_tabelle'})\n",
    "    table_data = table_data[1:]\n",
    "    \n",
    "    rows = []\n",
    "    for item in table_data:\n",
    "        rows.append(item.find_all('tr'))\n",
    "    rows = rows[0]  \n",
    "    \n",
    "    table = []\n",
    "    for team in rows:\n",
    "        row_td = team.find_all('td')\n",
    "        row = BeautifulSoup(str(row_td), 'lxml').get_text()\n",
    "        table.append(row)\n",
    "    table = table[1:]\n",
    "    \n",
    "    df = pd.DataFrame(table)\n",
    "    df1 = df[0].str.split(',', expand=True)\n",
    "    df1[[10,11]] = df1[[8,9]]\n",
    "    \n",
    "    df1[[7,8]] = df1[7].str.split(':', expand=True)\n",
    "    \n",
    "    df2 = df1.drop([1,9], axis=1)\n",
    "    \n",
    "    df2[0] = df2[0].str.strip('[')\n",
    "    df2[2] = df2[2].str.strip('\\n').str.strip(' \\n')\n",
    "    df2[11] = df2[11].str.strip(']')\n",
    "    df2.columns = range(df2.shape[1])\n",
    "    \n",
    "    df3 = df2.rename(columns={0: 'rank', 1: 'team', 2: 'matches_played', 3: 'wins', 4: 'drawns', 5: 'losses', 6: 'goals_for', 7: 'goals_against', 8: 'goals_diff', 9: 'points'})\n",
    "    \n",
    "    df3['season'] = season\n",
    "    return df3\n",
    "    \n",
    "url = \"https://www.worldfootball.net/schedule/eng-premier-league-2018-2019-spieltag/13/\"\n",
    "season = '2018/2019'    \n",
    "pl_table = get_pl_table(url, season)\n",
    "pl_table.head(3)"
   ]
  },
  {
   "cell_type": "markdown",
   "metadata": {},
   "source": [
    "Next we will the get the remained tables."
   ]
  },
  {
   "cell_type": "code",
   "execution_count": 16,
   "metadata": {},
   "outputs": [
    {
     "data": {
      "text/plain": [
       "(546, 11)"
      ]
     },
     "execution_count": 16,
     "metadata": {},
     "output_type": "execute_result"
    }
   ],
   "source": [
    "# generate the links of all seasons\n",
    "url_38 = [(\"https://www.worldfootball.net/schedule/eng-premier-league-\" + str(u) +'-' + str(u + 1) + '-spieltag/38/') for u in range(1995,2019)]   \n",
    "    \n",
    "url_42 = [(\"https://www.worldfootball.net/schedule/eng-premier-league-\" + str(u) +'-' + str(u + 1) + '-spieltag/42/') for u in range(1992,1995)]   \n",
    "   \n",
    "urls = url_38 + url_42\n",
    "\n",
    "urls = sorted(urls, reverse=True)\n",
    "    \n",
    "# generate the seasons year\n",
    "seasons = []\n",
    "for y in range(1992,2019):\n",
    "    i = (str(y) + '/' + str(y + 1))\n",
    "    seasons.append(i)\n",
    "seasons = sorted(seasons, reverse=True)\n",
    "\n",
    "# generate dataframe contains all seasons from 'urls' and 'seasons'\n",
    "appended_data = []\n",
    "for i, j in zip(urls, seasons):\n",
    "    data = get_pl_table(i, j)\n",
    "    appended_data.append(data)\n",
    "    \n",
    "# concatenate all datasets together     \n",
    "pl_tables_38 = pd.concat(appended_data, axis=0)\n",
    "pl_tables_38.shape"
   ]
  },
  {
   "cell_type": "code",
   "execution_count": 17,
   "metadata": {},
   "outputs": [
    {
     "data": {
      "text/html": [
       "<div>\n",
       "<style scoped>\n",
       "    .dataframe tbody tr th:only-of-type {\n",
       "        vertical-align: middle;\n",
       "    }\n",
       "\n",
       "    .dataframe tbody tr th {\n",
       "        vertical-align: top;\n",
       "    }\n",
       "\n",
       "    .dataframe thead th {\n",
       "        text-align: right;\n",
       "    }\n",
       "</style>\n",
       "<table border=\"1\" class=\"dataframe\">\n",
       "  <thead>\n",
       "    <tr style=\"text-align: right;\">\n",
       "      <th></th>\n",
       "      <th>rank</th>\n",
       "      <th>team</th>\n",
       "      <th>matches_played</th>\n",
       "      <th>wins</th>\n",
       "      <th>drawns</th>\n",
       "      <th>losses</th>\n",
       "      <th>goals_for</th>\n",
       "      <th>goals_against</th>\n",
       "      <th>goals_diff</th>\n",
       "      <th>points</th>\n",
       "      <th>season</th>\n",
       "    </tr>\n",
       "  </thead>\n",
       "  <tbody>\n",
       "    <tr>\n",
       "      <th>17</th>\n",
       "      <td>18</td>\n",
       "      <td>Southampton FC</td>\n",
       "      <td>42</td>\n",
       "      <td>13</td>\n",
       "      <td>11</td>\n",
       "      <td>18</td>\n",
       "      <td>54</td>\n",
       "      <td>61</td>\n",
       "      <td>-7</td>\n",
       "      <td>50</td>\n",
       "      <td>1992/1993</td>\n",
       "    </tr>\n",
       "    <tr>\n",
       "      <th>18</th>\n",
       "      <td>19</td>\n",
       "      <td>Oldham Athletic</td>\n",
       "      <td>42</td>\n",
       "      <td>13</td>\n",
       "      <td>10</td>\n",
       "      <td>19</td>\n",
       "      <td>63</td>\n",
       "      <td>74</td>\n",
       "      <td>-11</td>\n",
       "      <td>49</td>\n",
       "      <td>1992/1993</td>\n",
       "    </tr>\n",
       "    <tr>\n",
       "      <th>19</th>\n",
       "      <td>20</td>\n",
       "      <td>Crystal Palace</td>\n",
       "      <td>42</td>\n",
       "      <td>11</td>\n",
       "      <td>16</td>\n",
       "      <td>15</td>\n",
       "      <td>48</td>\n",
       "      <td>61</td>\n",
       "      <td>-13</td>\n",
       "      <td>49</td>\n",
       "      <td>1992/1993</td>\n",
       "    </tr>\n",
       "    <tr>\n",
       "      <th>20</th>\n",
       "      <td>21</td>\n",
       "      <td>Middlesbrough FC</td>\n",
       "      <td>42</td>\n",
       "      <td>11</td>\n",
       "      <td>11</td>\n",
       "      <td>20</td>\n",
       "      <td>54</td>\n",
       "      <td>75</td>\n",
       "      <td>-21</td>\n",
       "      <td>44</td>\n",
       "      <td>1992/1993</td>\n",
       "    </tr>\n",
       "    <tr>\n",
       "      <th>21</th>\n",
       "      <td>22</td>\n",
       "      <td>Nottingham Forest</td>\n",
       "      <td>42</td>\n",
       "      <td>10</td>\n",
       "      <td>10</td>\n",
       "      <td>22</td>\n",
       "      <td>41</td>\n",
       "      <td>62</td>\n",
       "      <td>-21</td>\n",
       "      <td>40</td>\n",
       "      <td>1992/1993</td>\n",
       "    </tr>\n",
       "  </tbody>\n",
       "</table>\n",
       "</div>"
      ],
      "text/plain": [
       "   rank               team matches_played wins drawns losses goals_for  \\\n",
       "17   18     Southampton FC             42   13     11     18        54   \n",
       "18   19    Oldham Athletic             42   13     10     19        63   \n",
       "19   20     Crystal Palace             42   11     16     15        48   \n",
       "20   21   Middlesbrough FC             42   11     11     20        54   \n",
       "21   22  Nottingham Forest             42   10     10     22        41   \n",
       "\n",
       "   goals_against goals_diff points     season  \n",
       "17            61         -7     50  1992/1993  \n",
       "18            74        -11     49  1992/1993  \n",
       "19            61        -13     49  1992/1993  \n",
       "20            75        -21     44  1992/1993  \n",
       "21            62        -21     40  1992/1993  "
      ]
     },
     "execution_count": 17,
     "metadata": {},
     "output_type": "execute_result"
    }
   ],
   "source": [
    "pl_tables_38.tail()"
   ]
  },
  {
   "cell_type": "markdown",
   "metadata": {},
   "source": [
    "Our dataset returned `546` rows. Let's examine this number, it's easy to know, how many seasons we had since the start of the `Premier League`. Also we know that theirs 20 clubs in thw league. "
   ]
  },
  {
   "cell_type": "code",
   "execution_count": 18,
   "metadata": {},
   "outputs": [
    {
     "data": {
      "text/plain": [
       "27"
      ]
     },
     "execution_count": 18,
     "metadata": {},
     "output_type": "execute_result"
    }
   ],
   "source": [
    "# calculate how many seasons passed the start of the PL\n",
    "number_of_seasons = len(pl_tables_38['season'].unique())\n",
    "number_of_seasons"
   ]
  },
  {
   "cell_type": "code",
   "execution_count": 19,
   "metadata": {},
   "outputs": [
    {
     "data": {
      "text/plain": [
       "False"
      ]
     },
     "execution_count": 19,
     "metadata": {},
     "output_type": "execute_result"
    }
   ],
   "source": [
    "# check if the result of the multiplication of 27 seasons by 20 clubs equals the number of dataset rows\n",
    "number_of_seasons == pl_tables_38.shape[0]"
   ]
  },
  {
   "cell_type": "markdown",
   "metadata": {},
   "source": [
    "A little research in the history of the `Premier League` and we can find that, in the first three seasons, there were 22 clubs instead of 20. Later the number of clubs scaled back to 20 from 22."
   ]
  },
  {
   "cell_type": "code",
   "execution_count": 20,
   "metadata": {},
   "outputs": [
    {
     "name": "stdout",
     "output_type": "stream",
     "text": [
      "The numbers of clubs in season 1992/1993 : 22\n",
      "The numbers of clubs in season 1993/1994 : 22\n",
      "The numbers of clubs in season 1994/1995 : 22\n",
      "The numbers of clubs in season 1995/1996 : 20\n"
     ]
    }
   ],
   "source": [
    "# check if this information is correct\n",
    "\n",
    "print('The numbers of clubs in season 1992/1993 : ' + str(len(pl_tables_38[pl_tables_38['season'] == '1992/1993'])))\n",
    "print('The numbers of clubs in season 1993/1994 : ' + str(len(pl_tables_38[pl_tables_38['season'] == '1993/1994'])))  \n",
    "print('The numbers of clubs in season 1994/1995 : ' + str(len(pl_tables_38[pl_tables_38['season'] == '1994/1995']))) \n",
    "print('The numbers of clubs in season 1995/1996 : ' + str(len(pl_tables_38[pl_tables_38['season'] == '1995/1996'])))"
   ]
  },
  {
   "cell_type": "markdown",
   "metadata": {},
   "source": [
    "Now after confirming the number of the rows of the dataset was correct we can move on with the rest data exploration."
   ]
  },
  {
   "cell_type": "code",
   "execution_count": 21,
   "metadata": {},
   "outputs": [
    {
     "data": {
      "text/plain": [
       "False"
      ]
     },
     "execution_count": 21,
     "metadata": {},
     "output_type": "execute_result"
    }
   ],
   "source": [
    "# checks if any of columns in dataset has null values - should print False\n",
    "pl_tables_38.isnull().sum().any()"
   ]
  },
  {
   "cell_type": "code",
   "execution_count": 22,
   "metadata": {},
   "outputs": [
    {
     "data": {
      "text/html": [
       "<div>\n",
       "<style scoped>\n",
       "    .dataframe tbody tr th:only-of-type {\n",
       "        vertical-align: middle;\n",
       "    }\n",
       "\n",
       "    .dataframe tbody tr th {\n",
       "        vertical-align: top;\n",
       "    }\n",
       "\n",
       "    .dataframe thead th {\n",
       "        text-align: right;\n",
       "    }\n",
       "</style>\n",
       "<table border=\"1\" class=\"dataframe\">\n",
       "  <thead>\n",
       "    <tr style=\"text-align: right;\">\n",
       "      <th></th>\n",
       "      <th>rank</th>\n",
       "      <th>team</th>\n",
       "      <th>matches_played</th>\n",
       "      <th>wins</th>\n",
       "      <th>drawns</th>\n",
       "      <th>losses</th>\n",
       "      <th>goals_for</th>\n",
       "      <th>goals_against</th>\n",
       "      <th>goals_diff</th>\n",
       "      <th>points</th>\n",
       "      <th>season</th>\n",
       "    </tr>\n",
       "  </thead>\n",
       "  <tbody>\n",
       "    <tr>\n",
       "      <th>0</th>\n",
       "      <td>1</td>\n",
       "      <td>Manchester City</td>\n",
       "      <td>38</td>\n",
       "      <td>32</td>\n",
       "      <td>2</td>\n",
       "      <td>4</td>\n",
       "      <td>95</td>\n",
       "      <td>23</td>\n",
       "      <td>72</td>\n",
       "      <td>98</td>\n",
       "      <td>2018/2019</td>\n",
       "    </tr>\n",
       "    <tr>\n",
       "      <th>1</th>\n",
       "      <td>2</td>\n",
       "      <td>Liverpool FC</td>\n",
       "      <td>38</td>\n",
       "      <td>30</td>\n",
       "      <td>7</td>\n",
       "      <td>1</td>\n",
       "      <td>89</td>\n",
       "      <td>22</td>\n",
       "      <td>67</td>\n",
       "      <td>97</td>\n",
       "      <td>2018/2019</td>\n",
       "    </tr>\n",
       "    <tr>\n",
       "      <th>2</th>\n",
       "      <td>3</td>\n",
       "      <td>Chelsea FC</td>\n",
       "      <td>38</td>\n",
       "      <td>21</td>\n",
       "      <td>9</td>\n",
       "      <td>8</td>\n",
       "      <td>63</td>\n",
       "      <td>39</td>\n",
       "      <td>24</td>\n",
       "      <td>72</td>\n",
       "      <td>2018/2019</td>\n",
       "    </tr>\n",
       "    <tr>\n",
       "      <th>3</th>\n",
       "      <td>4</td>\n",
       "      <td>Tottenham Hotspur</td>\n",
       "      <td>38</td>\n",
       "      <td>23</td>\n",
       "      <td>2</td>\n",
       "      <td>13</td>\n",
       "      <td>67</td>\n",
       "      <td>39</td>\n",
       "      <td>28</td>\n",
       "      <td>71</td>\n",
       "      <td>2018/2019</td>\n",
       "    </tr>\n",
       "    <tr>\n",
       "      <th>4</th>\n",
       "      <td>5</td>\n",
       "      <td>Arsenal FC</td>\n",
       "      <td>38</td>\n",
       "      <td>21</td>\n",
       "      <td>7</td>\n",
       "      <td>10</td>\n",
       "      <td>73</td>\n",
       "      <td>51</td>\n",
       "      <td>22</td>\n",
       "      <td>70</td>\n",
       "      <td>2018/2019</td>\n",
       "    </tr>\n",
       "  </tbody>\n",
       "</table>\n",
       "</div>"
      ],
      "text/plain": [
       "  rank               team matches_played wins drawns losses goals_for  \\\n",
       "0    1    Manchester City             38   32      2      4        95   \n",
       "1    2       Liverpool FC             38   30      7      1        89   \n",
       "2    3         Chelsea FC             38   21      9      8        63   \n",
       "3    4  Tottenham Hotspur             38   23      2     13        67   \n",
       "4    5         Arsenal FC             38   21      7     10        73   \n",
       "\n",
       "  goals_against goals_diff points     season  \n",
       "0            23         72     98  2018/2019  \n",
       "1            22         67     97  2018/2019  \n",
       "2            39         24     72  2018/2019  \n",
       "3            39         28     71  2018/2019  \n",
       "4            51         22     70  2018/2019  "
      ]
     },
     "execution_count": 22,
     "metadata": {},
     "output_type": "execute_result"
    }
   ],
   "source": [
    "# check top rows\n",
    "pl_tables_38.head()"
   ]
  },
  {
   "cell_type": "code",
   "execution_count": 23,
   "metadata": {},
   "outputs": [
    {
     "data": {
      "text/html": [
       "<div>\n",
       "<style scoped>\n",
       "    .dataframe tbody tr th:only-of-type {\n",
       "        vertical-align: middle;\n",
       "    }\n",
       "\n",
       "    .dataframe tbody tr th {\n",
       "        vertical-align: top;\n",
       "    }\n",
       "\n",
       "    .dataframe thead th {\n",
       "        text-align: right;\n",
       "    }\n",
       "</style>\n",
       "<table border=\"1\" class=\"dataframe\">\n",
       "  <thead>\n",
       "    <tr style=\"text-align: right;\">\n",
       "      <th></th>\n",
       "      <th>rank</th>\n",
       "      <th>team</th>\n",
       "      <th>matches_played</th>\n",
       "      <th>wins</th>\n",
       "      <th>drawns</th>\n",
       "      <th>losses</th>\n",
       "      <th>goals_for</th>\n",
       "      <th>goals_against</th>\n",
       "      <th>goals_diff</th>\n",
       "      <th>points</th>\n",
       "      <th>season</th>\n",
       "    </tr>\n",
       "  </thead>\n",
       "  <tbody>\n",
       "    <tr>\n",
       "      <th>17</th>\n",
       "      <td>18</td>\n",
       "      <td>Southampton FC</td>\n",
       "      <td>42</td>\n",
       "      <td>13</td>\n",
       "      <td>11</td>\n",
       "      <td>18</td>\n",
       "      <td>54</td>\n",
       "      <td>61</td>\n",
       "      <td>-7</td>\n",
       "      <td>50</td>\n",
       "      <td>1992/1993</td>\n",
       "    </tr>\n",
       "    <tr>\n",
       "      <th>18</th>\n",
       "      <td>19</td>\n",
       "      <td>Oldham Athletic</td>\n",
       "      <td>42</td>\n",
       "      <td>13</td>\n",
       "      <td>10</td>\n",
       "      <td>19</td>\n",
       "      <td>63</td>\n",
       "      <td>74</td>\n",
       "      <td>-11</td>\n",
       "      <td>49</td>\n",
       "      <td>1992/1993</td>\n",
       "    </tr>\n",
       "    <tr>\n",
       "      <th>19</th>\n",
       "      <td>20</td>\n",
       "      <td>Crystal Palace</td>\n",
       "      <td>42</td>\n",
       "      <td>11</td>\n",
       "      <td>16</td>\n",
       "      <td>15</td>\n",
       "      <td>48</td>\n",
       "      <td>61</td>\n",
       "      <td>-13</td>\n",
       "      <td>49</td>\n",
       "      <td>1992/1993</td>\n",
       "    </tr>\n",
       "    <tr>\n",
       "      <th>20</th>\n",
       "      <td>21</td>\n",
       "      <td>Middlesbrough FC</td>\n",
       "      <td>42</td>\n",
       "      <td>11</td>\n",
       "      <td>11</td>\n",
       "      <td>20</td>\n",
       "      <td>54</td>\n",
       "      <td>75</td>\n",
       "      <td>-21</td>\n",
       "      <td>44</td>\n",
       "      <td>1992/1993</td>\n",
       "    </tr>\n",
       "    <tr>\n",
       "      <th>21</th>\n",
       "      <td>22</td>\n",
       "      <td>Nottingham Forest</td>\n",
       "      <td>42</td>\n",
       "      <td>10</td>\n",
       "      <td>10</td>\n",
       "      <td>22</td>\n",
       "      <td>41</td>\n",
       "      <td>62</td>\n",
       "      <td>-21</td>\n",
       "      <td>40</td>\n",
       "      <td>1992/1993</td>\n",
       "    </tr>\n",
       "  </tbody>\n",
       "</table>\n",
       "</div>"
      ],
      "text/plain": [
       "   rank               team matches_played wins drawns losses goals_for  \\\n",
       "17   18     Southampton FC             42   13     11     18        54   \n",
       "18   19    Oldham Athletic             42   13     10     19        63   \n",
       "19   20     Crystal Palace             42   11     16     15        48   \n",
       "20   21   Middlesbrough FC             42   11     11     20        54   \n",
       "21   22  Nottingham Forest             42   10     10     22        41   \n",
       "\n",
       "   goals_against goals_diff points     season  \n",
       "17            61         -7     50  1992/1993  \n",
       "18            74        -11     49  1992/1993  \n",
       "19            61        -13     49  1992/1993  \n",
       "20            75        -21     44  1992/1993  \n",
       "21            62        -21     40  1992/1993  "
      ]
     },
     "execution_count": 23,
     "metadata": {},
     "output_type": "execute_result"
    }
   ],
   "source": [
    "# check bottom rows\n",
    "pl_tables_38.tail()"
   ]
  },
  {
   "cell_type": "code",
   "execution_count": 24,
   "metadata": {},
   "outputs": [
    {
     "data": {
      "text/html": [
       "<div>\n",
       "<style scoped>\n",
       "    .dataframe tbody tr th:only-of-type {\n",
       "        vertical-align: middle;\n",
       "    }\n",
       "\n",
       "    .dataframe tbody tr th {\n",
       "        vertical-align: top;\n",
       "    }\n",
       "\n",
       "    .dataframe thead th {\n",
       "        text-align: right;\n",
       "    }\n",
       "</style>\n",
       "<table border=\"1\" class=\"dataframe\">\n",
       "  <thead>\n",
       "    <tr style=\"text-align: right;\">\n",
       "      <th></th>\n",
       "      <th>rank</th>\n",
       "      <th>team</th>\n",
       "      <th>matches_played</th>\n",
       "      <th>wins</th>\n",
       "      <th>drawns</th>\n",
       "      <th>losses</th>\n",
       "      <th>goals_for</th>\n",
       "      <th>goals_against</th>\n",
       "      <th>goals_diff</th>\n",
       "      <th>points</th>\n",
       "      <th>season</th>\n",
       "    </tr>\n",
       "  </thead>\n",
       "  <tbody>\n",
       "    <tr>\n",
       "      <th>541</th>\n",
       "      <td>18</td>\n",
       "      <td>Southampton FC</td>\n",
       "      <td>42</td>\n",
       "      <td>13</td>\n",
       "      <td>11</td>\n",
       "      <td>18</td>\n",
       "      <td>54</td>\n",
       "      <td>61</td>\n",
       "      <td>-7</td>\n",
       "      <td>50</td>\n",
       "      <td>1992/1993</td>\n",
       "    </tr>\n",
       "    <tr>\n",
       "      <th>542</th>\n",
       "      <td>19</td>\n",
       "      <td>Oldham Athletic</td>\n",
       "      <td>42</td>\n",
       "      <td>13</td>\n",
       "      <td>10</td>\n",
       "      <td>19</td>\n",
       "      <td>63</td>\n",
       "      <td>74</td>\n",
       "      <td>-11</td>\n",
       "      <td>49</td>\n",
       "      <td>1992/1993</td>\n",
       "    </tr>\n",
       "    <tr>\n",
       "      <th>543</th>\n",
       "      <td>20</td>\n",
       "      <td>Crystal Palace</td>\n",
       "      <td>42</td>\n",
       "      <td>11</td>\n",
       "      <td>16</td>\n",
       "      <td>15</td>\n",
       "      <td>48</td>\n",
       "      <td>61</td>\n",
       "      <td>-13</td>\n",
       "      <td>49</td>\n",
       "      <td>1992/1993</td>\n",
       "    </tr>\n",
       "    <tr>\n",
       "      <th>544</th>\n",
       "      <td>21</td>\n",
       "      <td>Middlesbrough FC</td>\n",
       "      <td>42</td>\n",
       "      <td>11</td>\n",
       "      <td>11</td>\n",
       "      <td>20</td>\n",
       "      <td>54</td>\n",
       "      <td>75</td>\n",
       "      <td>-21</td>\n",
       "      <td>44</td>\n",
       "      <td>1992/1993</td>\n",
       "    </tr>\n",
       "    <tr>\n",
       "      <th>545</th>\n",
       "      <td>22</td>\n",
       "      <td>Nottingham Forest</td>\n",
       "      <td>42</td>\n",
       "      <td>10</td>\n",
       "      <td>10</td>\n",
       "      <td>22</td>\n",
       "      <td>41</td>\n",
       "      <td>62</td>\n",
       "      <td>-21</td>\n",
       "      <td>40</td>\n",
       "      <td>1992/1993</td>\n",
       "    </tr>\n",
       "  </tbody>\n",
       "</table>\n",
       "</div>"
      ],
      "text/plain": [
       "    rank               team matches_played wins drawns losses goals_for  \\\n",
       "541   18     Southampton FC             42   13     11     18        54   \n",
       "542   19    Oldham Athletic             42   13     10     19        63   \n",
       "543   20     Crystal Palace             42   11     16     15        48   \n",
       "544   21   Middlesbrough FC             42   11     11     20        54   \n",
       "545   22  Nottingham Forest             42   10     10     22        41   \n",
       "\n",
       "    goals_against goals_diff points     season  \n",
       "541            61         -7     50  1992/1993  \n",
       "542            74        -11     49  1992/1993  \n",
       "543            61        -13     49  1992/1993  \n",
       "544            75        -21     44  1992/1993  \n",
       "545            62        -21     40  1992/1993  "
      ]
     },
     "execution_count": 24,
     "metadata": {},
     "output_type": "execute_result"
    }
   ],
   "source": [
    "# reset index indices\n",
    "pl_tables_38 = pl_tables_38.reset_index(drop=True)\n",
    "pl_tables_38.tail()"
   ]
  },
  {
   "cell_type": "code",
   "execution_count": 25,
   "metadata": {},
   "outputs": [
    {
     "name": "stdout",
     "output_type": "stream",
     "text": [
      "<class 'pandas.core.frame.DataFrame'>\n",
      "RangeIndex: 546 entries, 0 to 545\n",
      "Data columns (total 11 columns):\n",
      "rank              546 non-null object\n",
      "team              546 non-null object\n",
      "matches_played    546 non-null object\n",
      "wins              546 non-null object\n",
      "drawns            546 non-null object\n",
      "losses            546 non-null object\n",
      "goals_for         546 non-null object\n",
      "goals_against     546 non-null object\n",
      "goals_diff        546 non-null object\n",
      "points            546 non-null object\n",
      "season            546 non-null object\n",
      "dtypes: object(11)\n",
      "memory usage: 47.0+ KB\n"
     ]
    }
   ],
   "source": [
    "# check dataset shape and columns data types\n",
    "pl_tables_38.info()"
   ]
  },
  {
   "cell_type": "markdown",
   "metadata": {},
   "source": [
    "We need to convert all the columns except `team` and `season` columns to `integers`."
   ]
  },
  {
   "cell_type": "code",
   "execution_count": 26,
   "metadata": {},
   "outputs": [
    {
     "data": {
      "text/plain": [
       "['rank',\n",
       " 'team',\n",
       " 'matches_played',\n",
       " 'wins',\n",
       " 'drawns',\n",
       " 'losses',\n",
       " 'goals_for',\n",
       " 'goals_against',\n",
       " 'goals_diff',\n",
       " 'points',\n",
       " 'season']"
      ]
     },
     "execution_count": 26,
     "metadata": {},
     "output_type": "execute_result"
    }
   ],
   "source": [
    "# show the labels\n",
    "cols_to_integers = list(pl_tables_38.columns)\n",
    "cols_to_integers"
   ]
  },
  {
   "cell_type": "code",
   "execution_count": 27,
   "metadata": {},
   "outputs": [
    {
     "data": {
      "text/plain": [
       "['rank',\n",
       " 'matches_played',\n",
       " 'wins',\n",
       " 'drawns',\n",
       " 'losses',\n",
       " 'goals_for',\n",
       " 'goals_against',\n",
       " 'goals_diff',\n",
       " 'points']"
      ]
     },
     "execution_count": 27,
     "metadata": {},
     "output_type": "execute_result"
    }
   ],
   "source": [
    "# remove columns labels that we don't want to convert to integers\n",
    "not_integers = ['team', 'season']\n",
    "for i in not_integers:\n",
    "    cols_to_integers.remove(i)\n",
    "cols_to_integers"
   ]
  },
  {
   "cell_type": "code",
   "execution_count": 28,
   "metadata": {},
   "outputs": [
    {
     "name": "stdout",
     "output_type": "stream",
     "text": [
      "<class 'pandas.core.frame.DataFrame'>\n",
      "RangeIndex: 546 entries, 0 to 545\n",
      "Data columns (total 11 columns):\n",
      "rank              546 non-null int64\n",
      "team              546 non-null object\n",
      "matches_played    546 non-null int64\n",
      "wins              546 non-null int64\n",
      "drawns            546 non-null int64\n",
      "losses            546 non-null int64\n",
      "goals_for         546 non-null int64\n",
      "goals_against     546 non-null int64\n",
      "goals_diff        546 non-null int64\n",
      "points            546 non-null int64\n",
      "season            546 non-null object\n",
      "dtypes: int64(9), object(2)\n",
      "memory usage: 47.0+ KB\n"
     ]
    }
   ],
   "source": [
    "# covert the selected columns to integers\n",
    "pl_tables_38[cols_to_integers] = pl_tables_38[cols_to_integers].apply(pd.to_numeric)\n",
    "\n",
    "# check column data types\n",
    "pl_tables_38.info()"
   ]
  },
  {
   "cell_type": "markdown",
   "metadata": {},
   "source": [
    "Now we have a clean dataset ready for analyzing and visualizing, so we can try to answer our questions."
   ]
  },
  {
   "cell_type": "markdown",
   "metadata": {},
   "source": [
    "## Visualizing and answering our questions "
   ]
  },
  {
   "cell_type": "markdown",
   "metadata": {},
   "source": [
    "### First Question\n",
    "Who won most EPL titles ?"
   ]
  },
  {
   "cell_type": "code",
   "execution_count": 29,
   "metadata": {},
   "outputs": [
    {
     "data": {
      "text/plain": [
       "Arsenal FC            3\n",
       "Blackburn Rovers      1\n",
       "Chelsea FC            5\n",
       "Leicester City        1\n",
       "Manchester City       4\n",
       "Manchester United    13\n",
       "Name: team, dtype: int64"
      ]
     },
     "execution_count": 29,
     "metadata": {},
     "output_type": "execute_result"
    }
   ],
   "source": [
    "most_title_winner = pl_tables_38.loc[pl_tables_38['rank'] == 1, 'team'].value_counts().sort_index()\n",
    "most_title_winner"
   ]
  },
  {
   "cell_type": "code",
   "execution_count": 30,
   "metadata": {},
   "outputs": [
    {
     "data": {
      "text/plain": [
       "'Manchester United titles won accounts for 48.15 % of the EPL titles'"
      ]
     },
     "execution_count": 30,
     "metadata": {},
     "output_type": "execute_result"
    },
    {
     "data": {
      "image/png": "[encoded data removed]",
      "text/plain": [
       "<Figure size 432x288 with 1 Axes>"
      ]
     },
     "metadata": {
      "needs_background": "light"
     },
     "output_type": "display_data"
    }
   ],
   "source": [
    "most_title_winner.plot.bar(title='EPL Most Title Winners', rot=45)\n",
    "winning_titles_percent = most_title_winner['Manchester United'] / most_title_winner.sum() * 100\n",
    "'Manchester United titles won accounts for {:.2f} % of the EPL titles'.format(winning_titles_percent)"
   ]
  },
  {
   "cell_type": "markdown",
   "metadata": {},
   "source": [
    "Look like `Manchester United` won most EPL titles. `Manchester United` won 13 titles from the 27 season played untill today"
   ]
  },
  {
   "cell_type": "markdown",
   "metadata": {},
   "source": [
    "### Second Question\n",
    "Who collected more points cummulatively ?"
   ]
  },
  {
   "cell_type": "code",
   "execution_count": 31,
   "metadata": {},
   "outputs": [
    {
     "data": {
      "text/plain": [
       "team\n",
       "Manchester United    2168\n",
       "Arsenal FC           1955\n",
       "Chelsea FC           1931\n",
       "Liverpool FC         1849\n",
       "Tottenham Hotspur    1595\n",
       "Everton FC           1427\n",
       "Manchester City      1369\n",
       "Newcastle United     1272\n",
       "Aston Villa          1223\n",
       "West Ham United      1098\n",
       "Name: points, dtype: int64"
      ]
     },
     "execution_count": 31,
     "metadata": {},
     "output_type": "execute_result"
    }
   ],
   "source": [
    "most_points = pl_tables_38.groupby('team').agg(sum)\n",
    "most_points['points'].sort_values(ascending=False).head(10)"
   ]
  },
  {
   "cell_type": "code",
   "execution_count": 32,
   "metadata": {},
   "outputs": [
    {
     "data": {
      "text/plain": [
       "<matplotlib.axes._subplots.AxesSubplot at 0x291d79c2ac8>"
      ]
     },
     "execution_count": 32,
     "metadata": {},
     "output_type": "execute_result"
    },
    {
     "data": {
      "image/png": "[encoded data removed]",
      "text/plain": [
       "<Figure size 432x288 with 1 Axes>"
      ]
     },
     "metadata": {
      "needs_background": "light"
     },
     "output_type": "display_data"
    }
   ],
   "source": [
    "most_points['points'].sort_values(ascending=False).head(10).plot.barh(title='Most Points Accumilated in EPL History')"
   ]
  },
  {
   "cell_type": "markdown",
   "metadata": {},
   "source": [
    "Seems like `Manchester United` too collected more points than other clubs. But there is an interesting observation here considering the two previous outputs, that `Arsenal FC` came close second in collecting point after `Manchester United`, yet the difference in titles wons is substantial. In the same time `Chelsea FC` and `Manchester City` won more titles than `Arsenal FC` but still behind in most points collected by a club. "
   ]
  },
  {
   "cell_type": "code",
   "execution_count": 33,
   "metadata": {},
   "outputs": [
    {
     "data": {
      "text/plain": [
       "Arsenal FC           6\n",
       "Manchester United    6\n",
       "Chelsea FC           4\n",
       "Liverpool FC         4\n",
       "Manchester City      2\n",
       "Newcastle United     2\n",
       "Aston Villa          1\n",
       "Blackburn Rovers     1\n",
       "Tottenham Hotspur    1\n",
       "Name: team, dtype: int64"
      ]
     },
     "execution_count": 33,
     "metadata": {},
     "output_type": "execute_result"
    }
   ],
   "source": [
    "# check who is the most runner up club\n",
    "most_runner_up = pl_tables_38.loc[pl_tables_38['rank'] == 2, 'team'].value_counts()\n",
    "most_runner_up"
   ]
  },
  {
   "cell_type": "markdown",
   "metadata": {},
   "source": [
    "You guessed it right, `Arsenal FC`! `Arsenal FC` came second more than any club else (jointly with `Manchester United`). That's why `Arsenal FC` has more points collected in the 27 seasons than other clubs except `Manchester United`. Also because of the 3 titles `Arsenal FC` won too."
   ]
  },
  {
   "cell_type": "markdown",
   "metadata": {},
   "source": [
    "### Question 3\n",
    "Most losses during one season ?"
   ]
  },
  {
   "cell_type": "code",
   "execution_count": 34,
   "metadata": {},
   "outputs": [
    {
     "data": {
      "text/html": [
       "<div>\n",
       "<style scoped>\n",
       "    .dataframe tbody tr th:only-of-type {\n",
       "        vertical-align: middle;\n",
       "    }\n",
       "\n",
       "    .dataframe tbody tr th {\n",
       "        vertical-align: top;\n",
       "    }\n",
       "\n",
       "    .dataframe thead th {\n",
       "        text-align: right;\n",
       "    }\n",
       "</style>\n",
       "<table border=\"1\" class=\"dataframe\">\n",
       "  <thead>\n",
       "    <tr style=\"text-align: right;\">\n",
       "      <th></th>\n",
       "      <th>team</th>\n",
       "      <th>losses</th>\n",
       "      <th>season</th>\n",
       "    </tr>\n",
       "  </thead>\n",
       "  <tbody>\n",
       "    <tr>\n",
       "      <th>239</th>\n",
       "      <td>Derby County</td>\n",
       "      <td>29</td>\n",
       "      <td>2007/2008</td>\n",
       "    </tr>\n",
       "    <tr>\n",
       "      <th>279</th>\n",
       "      <td>Sunderland AFC</td>\n",
       "      <td>29</td>\n",
       "      <td>2005/2006</td>\n",
       "    </tr>\n",
       "    <tr>\n",
       "      <th>501</th>\n",
       "      <td>Ipswich Town</td>\n",
       "      <td>29</td>\n",
       "      <td>1994/1995</td>\n",
       "    </tr>\n",
       "    <tr>\n",
       "      <th>19</th>\n",
       "      <td>Huddersfield Town</td>\n",
       "      <td>28</td>\n",
       "      <td>2018/2019</td>\n",
       "    </tr>\n",
       "    <tr>\n",
       "      <th>79</th>\n",
       "      <td>Aston Villa</td>\n",
       "      <td>27</td>\n",
       "      <td>2015/2016</td>\n",
       "    </tr>\n",
       "  </tbody>\n",
       "</table>\n",
       "</div>"
      ],
      "text/plain": [
       "                  team  losses     season\n",
       "239       Derby County      29  2007/2008\n",
       "279     Sunderland AFC      29  2005/2006\n",
       "501       Ipswich Town      29  1994/1995\n",
       "19   Huddersfield Town      28  2018/2019\n",
       "79         Aston Villa      27  2015/2016"
      ]
     },
     "execution_count": 34,
     "metadata": {},
     "output_type": "execute_result"
    }
   ],
   "source": [
    "# find out the teams with most losses during one season\n",
    "most_losses = pl_tables_38.sort_values('losses', ascending=False)\n",
    "top_5_losses = most_losses[['team', 'losses', 'season']].head()\n",
    "top_5_losses"
   ]
  },
  {
   "cell_type": "code",
   "execution_count": 35,
   "metadata": {},
   "outputs": [
    {
     "data": {
      "text/plain": [
       "'The top of this list lost 76.32 % of their games'"
      ]
     },
     "execution_count": 35,
     "metadata": {},
     "output_type": "execute_result"
    }
   ],
   "source": [
    "loss_percent = pl_tables_38.loc[239, 'losses'] / pl_tables_38.loc[239, 'matches_played'] * 100\n",
    "'The top of this list lost {:.2f} % of their games'.format(loss_percent)"
   ]
  },
  {
   "cell_type": "markdown",
   "metadata": {},
   "source": [
    "### Question 4\n",
    "Predicting the EPL winner after `13` game. To do that, we need get `EPL` standing after `13` matches for all seasons. "
   ]
  },
  {
   "cell_type": "code",
   "execution_count": 36,
   "metadata": {},
   "outputs": [
    {
     "data": {
      "text/plain": [
       "(546, 11)"
      ]
     },
     "execution_count": 36,
     "metadata": {},
     "output_type": "execute_result"
    }
   ],
   "source": [
    "# scraping, cleaning and concatenate the tables together\n",
    "# generate the links of all seasons\n",
    "url_13 = [(\"https://www.worldfootball.net/schedule/eng-premier-league-\" + str(u) +'-' + str(u + 1) + '-spieltag/13/') for u in range(1992,2019)]   \n",
    "    \n",
    "urls = sorted(url_13, reverse=True)\n",
    "    \n",
    "# generate the seasons year\n",
    "seasons = []\n",
    "for y in range(1992,2019):\n",
    "    i = (str(y) + '/' + str(y + 1))\n",
    "    seasons.append(i)\n",
    "seasons = sorted(seasons, reverse=True)\n",
    "\n",
    "# generate dataframe contains all seasons from 'urls' and 'seasons'\n",
    "appended_data = []\n",
    "for i, j in zip(urls, seasons):\n",
    "    data = get_pl_table(i, j)\n",
    "    appended_data.append(data)\n",
    "\n",
    "# concatenate all datasets together     \n",
    "pl_tables_13 = pd.concat(appended_data, axis=0)\n",
    "pl_tables_13.shape"
   ]
  },
  {
   "cell_type": "code",
   "execution_count": 37,
   "metadata": {},
   "outputs": [
    {
     "data": {
      "text/html": [
       "<div>\n",
       "<style scoped>\n",
       "    .dataframe tbody tr th:only-of-type {\n",
       "        vertical-align: middle;\n",
       "    }\n",
       "\n",
       "    .dataframe tbody tr th {\n",
       "        vertical-align: top;\n",
       "    }\n",
       "\n",
       "    .dataframe thead th {\n",
       "        text-align: right;\n",
       "    }\n",
       "</style>\n",
       "<table border=\"1\" class=\"dataframe\">\n",
       "  <thead>\n",
       "    <tr style=\"text-align: right;\">\n",
       "      <th></th>\n",
       "      <th>rank</th>\n",
       "      <th>team</th>\n",
       "      <th>matches_played</th>\n",
       "      <th>wins</th>\n",
       "      <th>drawns</th>\n",
       "      <th>losses</th>\n",
       "      <th>goals_for</th>\n",
       "      <th>goals_against</th>\n",
       "      <th>goals_diff</th>\n",
       "      <th>points</th>\n",
       "      <th>season</th>\n",
       "    </tr>\n",
       "  </thead>\n",
       "  <tbody>\n",
       "    <tr>\n",
       "      <th>0</th>\n",
       "      <td>1</td>\n",
       "      <td>Manchester City</td>\n",
       "      <td>13</td>\n",
       "      <td>11</td>\n",
       "      <td>2</td>\n",
       "      <td>0</td>\n",
       "      <td>40</td>\n",
       "      <td>5</td>\n",
       "      <td>35</td>\n",
       "      <td>35</td>\n",
       "      <td>2018/2019</td>\n",
       "    </tr>\n",
       "    <tr>\n",
       "      <th>1</th>\n",
       "      <td>2</td>\n",
       "      <td>Liverpool FC</td>\n",
       "      <td>13</td>\n",
       "      <td>10</td>\n",
       "      <td>3</td>\n",
       "      <td>0</td>\n",
       "      <td>26</td>\n",
       "      <td>5</td>\n",
       "      <td>21</td>\n",
       "      <td>33</td>\n",
       "      <td>2018/2019</td>\n",
       "    </tr>\n",
       "    <tr>\n",
       "      <th>2</th>\n",
       "      <td>3</td>\n",
       "      <td>Tottenham Hotspur</td>\n",
       "      <td>13</td>\n",
       "      <td>10</td>\n",
       "      <td>0</td>\n",
       "      <td>3</td>\n",
       "      <td>23</td>\n",
       "      <td>11</td>\n",
       "      <td>12</td>\n",
       "      <td>30</td>\n",
       "      <td>2018/2019</td>\n",
       "    </tr>\n",
       "    <tr>\n",
       "      <th>3</th>\n",
       "      <td>4</td>\n",
       "      <td>Chelsea FC</td>\n",
       "      <td>13</td>\n",
       "      <td>8</td>\n",
       "      <td>4</td>\n",
       "      <td>1</td>\n",
       "      <td>28</td>\n",
       "      <td>11</td>\n",
       "      <td>17</td>\n",
       "      <td>28</td>\n",
       "      <td>2018/2019</td>\n",
       "    </tr>\n",
       "    <tr>\n",
       "      <th>4</th>\n",
       "      <td>5</td>\n",
       "      <td>Arsenal FC</td>\n",
       "      <td>13</td>\n",
       "      <td>8</td>\n",
       "      <td>3</td>\n",
       "      <td>2</td>\n",
       "      <td>28</td>\n",
       "      <td>16</td>\n",
       "      <td>12</td>\n",
       "      <td>27</td>\n",
       "      <td>2018/2019</td>\n",
       "    </tr>\n",
       "  </tbody>\n",
       "</table>\n",
       "</div>"
      ],
      "text/plain": [
       "  rank               team matches_played wins drawns losses goals_for  \\\n",
       "0    1    Manchester City             13   11      2      0        40   \n",
       "1    2       Liverpool FC             13   10      3      0        26   \n",
       "2    3  Tottenham Hotspur             13   10      0      3        23   \n",
       "3    4         Chelsea FC             13    8      4      1        28   \n",
       "4    5         Arsenal FC             13    8      3      2        28   \n",
       "\n",
       "  goals_against goals_diff points     season  \n",
       "0             5         35     35  2018/2019  \n",
       "1             5         21     33  2018/2019  \n",
       "2            11         12     30  2018/2019  \n",
       "3            11         17     28  2018/2019  \n",
       "4            16         12     27  2018/2019  "
      ]
     },
     "execution_count": 37,
     "metadata": {},
     "output_type": "execute_result"
    }
   ],
   "source": [
    "# check top rows\n",
    "pl_tables_13.head()"
   ]
  },
  {
   "cell_type": "code",
   "execution_count": 38,
   "metadata": {},
   "outputs": [
    {
     "data": {
      "text/html": [
       "<div>\n",
       "<style scoped>\n",
       "    .dataframe tbody tr th:only-of-type {\n",
       "        vertical-align: middle;\n",
       "    }\n",
       "\n",
       "    .dataframe tbody tr th {\n",
       "        vertical-align: top;\n",
       "    }\n",
       "\n",
       "    .dataframe thead th {\n",
       "        text-align: right;\n",
       "    }\n",
       "</style>\n",
       "<table border=\"1\" class=\"dataframe\">\n",
       "  <thead>\n",
       "    <tr style=\"text-align: right;\">\n",
       "      <th></th>\n",
       "      <th>rank</th>\n",
       "      <th>team</th>\n",
       "      <th>matches_played</th>\n",
       "      <th>wins</th>\n",
       "      <th>drawns</th>\n",
       "      <th>losses</th>\n",
       "      <th>goals_for</th>\n",
       "      <th>goals_against</th>\n",
       "      <th>goals_diff</th>\n",
       "      <th>points</th>\n",
       "      <th>season</th>\n",
       "    </tr>\n",
       "  </thead>\n",
       "  <tbody>\n",
       "    <tr>\n",
       "      <th>17</th>\n",
       "      <td>18</td>\n",
       "      <td>Tottenham Hotspur</td>\n",
       "      <td>13</td>\n",
       "      <td>2</td>\n",
       "      <td>6</td>\n",
       "      <td>5</td>\n",
       "      <td>12</td>\n",
       "      <td>22</td>\n",
       "      <td>-10</td>\n",
       "      <td>12</td>\n",
       "      <td>1992/1993</td>\n",
       "    </tr>\n",
       "    <tr>\n",
       "      <th>18</th>\n",
       "      <td>19</td>\n",
       "      <td>Crystal Palace</td>\n",
       "      <td>13</td>\n",
       "      <td>1</td>\n",
       "      <td>8</td>\n",
       "      <td>4</td>\n",
       "      <td>17</td>\n",
       "      <td>21</td>\n",
       "      <td>-4</td>\n",
       "      <td>11</td>\n",
       "      <td>1992/1993</td>\n",
       "    </tr>\n",
       "    <tr>\n",
       "      <th>19</th>\n",
       "      <td></td>\n",
       "      <td>Wimbledon FC</td>\n",
       "      <td>13</td>\n",
       "      <td>2</td>\n",
       "      <td>5</td>\n",
       "      <td>6</td>\n",
       "      <td>17</td>\n",
       "      <td>21</td>\n",
       "      <td>-4</td>\n",
       "      <td>11</td>\n",
       "      <td>1992/1993</td>\n",
       "    </tr>\n",
       "    <tr>\n",
       "      <th>20</th>\n",
       "      <td>21</td>\n",
       "      <td>Southampton FC</td>\n",
       "      <td>13</td>\n",
       "      <td>2</td>\n",
       "      <td>5</td>\n",
       "      <td>6</td>\n",
       "      <td>11</td>\n",
       "      <td>17</td>\n",
       "      <td>-6</td>\n",
       "      <td>11</td>\n",
       "      <td>1992/1993</td>\n",
       "    </tr>\n",
       "    <tr>\n",
       "      <th>21</th>\n",
       "      <td>22</td>\n",
       "      <td>Nottingham Forest</td>\n",
       "      <td>13</td>\n",
       "      <td>2</td>\n",
       "      <td>4</td>\n",
       "      <td>7</td>\n",
       "      <td>11</td>\n",
       "      <td>22</td>\n",
       "      <td>-11</td>\n",
       "      <td>10</td>\n",
       "      <td>1992/1993</td>\n",
       "    </tr>\n",
       "  </tbody>\n",
       "</table>\n",
       "</div>"
      ],
      "text/plain": [
       "   rank               team matches_played wins drawns losses goals_for  \\\n",
       "17   18  Tottenham Hotspur             13    2      6      5        12   \n",
       "18   19     Crystal Palace             13    1      8      4        17   \n",
       "19            Wimbledon FC             13    2      5      6        17   \n",
       "20   21     Southampton FC             13    2      5      6        11   \n",
       "21   22  Nottingham Forest             13    2      4      7        11   \n",
       "\n",
       "   goals_against goals_diff points     season  \n",
       "17            22        -10     12  1992/1993  \n",
       "18            21         -4     11  1992/1993  \n",
       "19            21         -4     11  1992/1993  \n",
       "20            17         -6     11  1992/1993  \n",
       "21            22        -11     10  1992/1993  "
      ]
     },
     "execution_count": 38,
     "metadata": {},
     "output_type": "execute_result"
    }
   ],
   "source": [
    "# check bottom rows\n",
    "pl_tables_13.tail()"
   ]
  },
  {
   "cell_type": "code",
   "execution_count": 39,
   "metadata": {},
   "outputs": [],
   "source": [
    "# reset index indices\n",
    "pl_tables_13 = pl_tables_13.reset_index(drop=True)"
   ]
  },
  {
   "cell_type": "markdown",
   "metadata": {},
   "source": [
    "Our next step should be converting all rows except `team` and `season` to `integers`, but when trying to do that, the following error has been encountered `'Unable to parse string \"\\xa0\" at position 252', 'occurred at index rank'`. So we will do more investigation in `rank` column"
   ]
  },
  {
   "cell_type": "code",
   "execution_count": 40,
   "metadata": {},
   "outputs": [
    {
     "data": {
      "text/plain": [
       "array(['1', '2', '3', '4', '5', '6', '7', '8', '9', '10', '11', '12',\n",
       "       '13', '14', '15', '16', '17', '18', '19', '20', '\\xa0', '21', '22'],\n",
       "      dtype=object)"
      ]
     },
     "execution_count": 40,
     "metadata": {},
     "output_type": "execute_result"
    }
   ],
   "source": [
    "# check unique values of this column, expect sequence numbers from 1 & 22\n",
    "pl_tables_13['rank'].unique()"
   ]
  },
  {
   "cell_type": "markdown",
   "metadata": {},
   "source": [
    "We found the value that raise the error which is `\\xa0` the non-breaking space in Latin1 (ISO 8859-1)."
   ]
  },
  {
   "cell_type": "code",
   "execution_count": 41,
   "metadata": {},
   "outputs": [
    {
     "data": {
      "text/plain": [
       "rank               True\n",
       "team              False\n",
       "matches_played    False\n",
       "wins              False\n",
       "drawns            False\n",
       "losses            False\n",
       "goals_for         False\n",
       "goals_against     False\n",
       "goals_diff        False\n",
       "points            False\n",
       "season            False\n",
       "dtype: bool"
      ]
     },
     "execution_count": 41,
     "metadata": {},
     "output_type": "execute_result"
    }
   ],
   "source": [
    "# Check other columns if contain this char\n",
    "pl_tables_13.isin(['\\xa0']).any()"
   ]
  },
  {
   "cell_type": "markdown",
   "metadata": {},
   "source": [
    "Gladly it's only found in `rank` column."
   ]
  },
  {
   "cell_type": "code",
   "execution_count": 42,
   "metadata": {},
   "outputs": [
    {
     "data": {
      "text/html": [
       "<div>\n",
       "<style scoped>\n",
       "    .dataframe tbody tr th:only-of-type {\n",
       "        vertical-align: middle;\n",
       "    }\n",
       "\n",
       "    .dataframe tbody tr th {\n",
       "        vertical-align: top;\n",
       "    }\n",
       "\n",
       "    .dataframe thead th {\n",
       "        text-align: right;\n",
       "    }\n",
       "</style>\n",
       "<table border=\"1\" class=\"dataframe\">\n",
       "  <thead>\n",
       "    <tr style=\"text-align: right;\">\n",
       "      <th></th>\n",
       "      <th>rank</th>\n",
       "      <th>team</th>\n",
       "      <th>matches_played</th>\n",
       "      <th>wins</th>\n",
       "      <th>drawns</th>\n",
       "      <th>losses</th>\n",
       "      <th>goals_for</th>\n",
       "      <th>goals_against</th>\n",
       "      <th>goals_diff</th>\n",
       "      <th>points</th>\n",
       "      <th>season</th>\n",
       "    </tr>\n",
       "  </thead>\n",
       "  <tbody>\n",
       "    <tr>\n",
       "      <th>252</th>\n",
       "      <td></td>\n",
       "      <td>Tottenham Hotspur</td>\n",
       "      <td>13</td>\n",
       "      <td>4</td>\n",
       "      <td>4</td>\n",
       "      <td>5</td>\n",
       "      <td>10</td>\n",
       "      <td>15</td>\n",
       "      <td>-5</td>\n",
       "      <td>16</td>\n",
       "      <td>2006/2007</td>\n",
       "    </tr>\n",
       "    <tr>\n",
       "      <th>411</th>\n",
       "      <td></td>\n",
       "      <td>Liverpool FC</td>\n",
       "      <td>13</td>\n",
       "      <td>4</td>\n",
       "      <td>4</td>\n",
       "      <td>5</td>\n",
       "      <td>20</td>\n",
       "      <td>17</td>\n",
       "      <td>3</td>\n",
       "      <td>16</td>\n",
       "      <td>1998/1999</td>\n",
       "    </tr>\n",
       "    <tr>\n",
       "      <th>543</th>\n",
       "      <td></td>\n",
       "      <td>Wimbledon FC</td>\n",
       "      <td>13</td>\n",
       "      <td>2</td>\n",
       "      <td>5</td>\n",
       "      <td>6</td>\n",
       "      <td>17</td>\n",
       "      <td>21</td>\n",
       "      <td>-4</td>\n",
       "      <td>11</td>\n",
       "      <td>1992/1993</td>\n",
       "    </tr>\n",
       "  </tbody>\n",
       "</table>\n",
       "</div>"
      ],
      "text/plain": [
       "    rank               team matches_played wins drawns losses goals_for  \\\n",
       "252       Tottenham Hotspur             13    4      4      5        10   \n",
       "411            Liverpool FC             13    4      4      5        20   \n",
       "543            Wimbledon FC             13    2      5      6        17   \n",
       "\n",
       "    goals_against goals_diff points     season  \n",
       "252            15         -5     16  2006/2007  \n",
       "411            17          3     16  1998/1999  \n",
       "543            21         -4     11  1992/1993  "
      ]
     },
     "execution_count": 42,
     "metadata": {},
     "output_type": "execute_result"
    }
   ],
   "source": [
    "# check where this char found\n",
    "pl_tables_13[pl_tables_13['rank'] == '\\xa0']"
   ]
  },
  {
   "cell_type": "code",
   "execution_count": 43,
   "metadata": {},
   "outputs": [
    {
     "data": {
      "text/plain": [
       "True"
      ]
     },
     "execution_count": 43,
     "metadata": {},
     "output_type": "execute_result"
    }
   ],
   "source": [
    "# verify this char \\xa0 contained in these indices\n",
    "pl_tables_13.loc[252, 'rank'] == '\\xa0'"
   ]
  },
  {
   "cell_type": "markdown",
   "metadata": {},
   "source": [
    "After inspecting the source website that we scrape the data from, we found these 3 rows did not contain specific ranks in front of these 3 teams. \n",
    "\n",
    "Next we will try to fill these wrong values, with the wright rank. "
   ]
  },
  {
   "cell_type": "code",
   "execution_count": 44,
   "metadata": {},
   "outputs": [],
   "source": [
    "# replace the values of rank in these indices with wright rank\n",
    "indices = [252, 411, 543]\n",
    "\n",
    "for i in indices:\n",
    "    pl_tables_13.loc[i, 'rank'] = (int(pl_tables_13.loc[(i - 1), 'rank']) + 1)"
   ]
  },
  {
   "cell_type": "code",
   "execution_count": 45,
   "metadata": {},
   "outputs": [
    {
     "data": {
      "text/plain": [
       "False"
      ]
     },
     "execution_count": 45,
     "metadata": {},
     "output_type": "execute_result"
    }
   ],
   "source": [
    "# verify again this char \\xa0 still contained in these indices\n",
    "pl_tables_13.loc[252, 'rank'] == '\\xa0'"
   ]
  },
  {
   "cell_type": "code",
   "execution_count": 46,
   "metadata": {},
   "outputs": [
    {
     "data": {
      "text/html": [
       "<div>\n",
       "<style scoped>\n",
       "    .dataframe tbody tr th:only-of-type {\n",
       "        vertical-align: middle;\n",
       "    }\n",
       "\n",
       "    .dataframe tbody tr th {\n",
       "        vertical-align: top;\n",
       "    }\n",
       "\n",
       "    .dataframe thead th {\n",
       "        text-align: right;\n",
       "    }\n",
       "</style>\n",
       "<table border=\"1\" class=\"dataframe\">\n",
       "  <thead>\n",
       "    <tr style=\"text-align: right;\">\n",
       "      <th></th>\n",
       "      <th>rank</th>\n",
       "      <th>team</th>\n",
       "      <th>matches_played</th>\n",
       "      <th>wins</th>\n",
       "      <th>drawns</th>\n",
       "      <th>losses</th>\n",
       "      <th>goals_for</th>\n",
       "      <th>goals_against</th>\n",
       "      <th>goals_diff</th>\n",
       "      <th>points</th>\n",
       "      <th>season</th>\n",
       "    </tr>\n",
       "  </thead>\n",
       "  <tbody>\n",
       "    <tr>\n",
       "      <th>252</th>\n",
       "      <td>13</td>\n",
       "      <td>Tottenham Hotspur</td>\n",
       "      <td>13</td>\n",
       "      <td>4</td>\n",
       "      <td>4</td>\n",
       "      <td>5</td>\n",
       "      <td>10</td>\n",
       "      <td>15</td>\n",
       "      <td>-5</td>\n",
       "      <td>16</td>\n",
       "      <td>2006/2007</td>\n",
       "    </tr>\n",
       "    <tr>\n",
       "      <th>411</th>\n",
       "      <td>12</td>\n",
       "      <td>Liverpool FC</td>\n",
       "      <td>13</td>\n",
       "      <td>4</td>\n",
       "      <td>4</td>\n",
       "      <td>5</td>\n",
       "      <td>20</td>\n",
       "      <td>17</td>\n",
       "      <td>3</td>\n",
       "      <td>16</td>\n",
       "      <td>1998/1999</td>\n",
       "    </tr>\n",
       "    <tr>\n",
       "      <th>543</th>\n",
       "      <td>20</td>\n",
       "      <td>Wimbledon FC</td>\n",
       "      <td>13</td>\n",
       "      <td>2</td>\n",
       "      <td>5</td>\n",
       "      <td>6</td>\n",
       "      <td>17</td>\n",
       "      <td>21</td>\n",
       "      <td>-4</td>\n",
       "      <td>11</td>\n",
       "      <td>1992/1993</td>\n",
       "    </tr>\n",
       "  </tbody>\n",
       "</table>\n",
       "</div>"
      ],
      "text/plain": [
       "    rank               team matches_played wins drawns losses goals_for  \\\n",
       "252   13  Tottenham Hotspur             13    4      4      5        10   \n",
       "411   12       Liverpool FC             13    4      4      5        20   \n",
       "543   20       Wimbledon FC             13    2      5      6        17   \n",
       "\n",
       "    goals_against goals_diff points     season  \n",
       "252            15         -5     16  2006/2007  \n",
       "411            17          3     16  1998/1999  \n",
       "543            21         -4     11  1992/1993  "
      ]
     },
     "execution_count": 46,
     "metadata": {},
     "output_type": "execute_result"
    }
   ],
   "source": [
    "# more verification\n",
    "pl_tables_13.iloc[indices]"
   ]
  },
  {
   "cell_type": "markdown",
   "metadata": {},
   "source": [
    "After cleaning the dataset, now we can convert the selected columns to `integers`"
   ]
  },
  {
   "cell_type": "code",
   "execution_count": 47,
   "metadata": {},
   "outputs": [
    {
     "name": "stdout",
     "output_type": "stream",
     "text": [
      "<class 'pandas.core.frame.DataFrame'>\n",
      "RangeIndex: 546 entries, 0 to 545\n",
      "Data columns (total 11 columns):\n",
      "rank              546 non-null int64\n",
      "team              546 non-null object\n",
      "matches_played    546 non-null int64\n",
      "wins              546 non-null int64\n",
      "drawns            546 non-null int64\n",
      "losses            546 non-null int64\n",
      "goals_for         546 non-null int64\n",
      "goals_against     546 non-null int64\n",
      "goals_diff        546 non-null int64\n",
      "points            546 non-null int64\n",
      "season            546 non-null object\n",
      "dtypes: int64(9), object(2)\n",
      "memory usage: 47.0+ KB\n"
     ]
    }
   ],
   "source": [
    "# convert the selected columns to integers\n",
    "pl_tables_13[cols_to_integers] = pl_tables_13[cols_to_integers].apply(pd.to_numeric)\n",
    "pl_tables_13.info()"
   ]
  },
  {
   "cell_type": "code",
   "execution_count": 48,
   "metadata": {},
   "outputs": [
    {
     "data": {
      "text/html": [
       "<div>\n",
       "<style scoped>\n",
       "    .dataframe tbody tr th:only-of-type {\n",
       "        vertical-align: middle;\n",
       "    }\n",
       "\n",
       "    .dataframe tbody tr th {\n",
       "        vertical-align: top;\n",
       "    }\n",
       "\n",
       "    .dataframe thead th {\n",
       "        text-align: right;\n",
       "    }\n",
       "</style>\n",
       "<table border=\"1\" class=\"dataframe\">\n",
       "  <thead>\n",
       "    <tr style=\"text-align: right;\">\n",
       "      <th></th>\n",
       "      <th>rank</th>\n",
       "      <th>team</th>\n",
       "      <th>matches_played</th>\n",
       "      <th>wins</th>\n",
       "      <th>drawns</th>\n",
       "      <th>losses</th>\n",
       "      <th>goals_for</th>\n",
       "      <th>goals_against</th>\n",
       "      <th>goals_diff</th>\n",
       "      <th>points</th>\n",
       "      <th>season</th>\n",
       "    </tr>\n",
       "  </thead>\n",
       "  <tbody>\n",
       "    <tr>\n",
       "      <th>0</th>\n",
       "      <td>1</td>\n",
       "      <td>Manchester City</td>\n",
       "      <td>13</td>\n",
       "      <td>11</td>\n",
       "      <td>2</td>\n",
       "      <td>0</td>\n",
       "      <td>40</td>\n",
       "      <td>5</td>\n",
       "      <td>35</td>\n",
       "      <td>35</td>\n",
       "      <td>2018/2019</td>\n",
       "    </tr>\n",
       "    <tr>\n",
       "      <th>20</th>\n",
       "      <td>1</td>\n",
       "      <td>Manchester City</td>\n",
       "      <td>13</td>\n",
       "      <td>12</td>\n",
       "      <td>1</td>\n",
       "      <td>0</td>\n",
       "      <td>42</td>\n",
       "      <td>8</td>\n",
       "      <td>34</td>\n",
       "      <td>37</td>\n",
       "      <td>2017/2018</td>\n",
       "    </tr>\n",
       "    <tr>\n",
       "      <th>40</th>\n",
       "      <td>1</td>\n",
       "      <td>Chelsea FC</td>\n",
       "      <td>13</td>\n",
       "      <td>10</td>\n",
       "      <td>1</td>\n",
       "      <td>2</td>\n",
       "      <td>29</td>\n",
       "      <td>10</td>\n",
       "      <td>19</td>\n",
       "      <td>31</td>\n",
       "      <td>2016/2017</td>\n",
       "    </tr>\n",
       "    <tr>\n",
       "      <th>60</th>\n",
       "      <td>1</td>\n",
       "      <td>Leicester City</td>\n",
       "      <td>13</td>\n",
       "      <td>8</td>\n",
       "      <td>4</td>\n",
       "      <td>1</td>\n",
       "      <td>28</td>\n",
       "      <td>20</td>\n",
       "      <td>8</td>\n",
       "      <td>28</td>\n",
       "      <td>2015/2016</td>\n",
       "    </tr>\n",
       "    <tr>\n",
       "      <th>80</th>\n",
       "      <td>1</td>\n",
       "      <td>Chelsea FC</td>\n",
       "      <td>13</td>\n",
       "      <td>10</td>\n",
       "      <td>3</td>\n",
       "      <td>0</td>\n",
       "      <td>30</td>\n",
       "      <td>11</td>\n",
       "      <td>19</td>\n",
       "      <td>33</td>\n",
       "      <td>2014/2015</td>\n",
       "    </tr>\n",
       "  </tbody>\n",
       "</table>\n",
       "</div>"
      ],
      "text/plain": [
       "    rank             team  matches_played  wins  drawns  losses  goals_for  \\\n",
       "0      1  Manchester City              13    11       2       0         40   \n",
       "20     1  Manchester City              13    12       1       0         42   \n",
       "40     1       Chelsea FC              13    10       1       2         29   \n",
       "60     1   Leicester City              13     8       4       1         28   \n",
       "80     1       Chelsea FC              13    10       3       0         30   \n",
       "\n",
       "    goals_against  goals_diff  points     season  \n",
       "0               5          35      35  2018/2019  \n",
       "20              8          34      37  2017/2018  \n",
       "40             10          19      31  2016/2017  \n",
       "60             20           8      28  2015/2016  \n",
       "80             11          19      33  2014/2015  "
      ]
     },
     "execution_count": 48,
     "metadata": {},
     "output_type": "execute_result"
    }
   ],
   "source": [
    "# show the leaders of the EPL after 13 matches\n",
    "leaders_13 = pl_tables_13[pl_tables_13['rank'] == 1]\n",
    "leaders_13.head()"
   ]
  },
  {
   "cell_type": "code",
   "execution_count": 49,
   "metadata": {},
   "outputs": [
    {
     "data": {
      "text/html": [
       "<div>\n",
       "<style scoped>\n",
       "    .dataframe tbody tr th:only-of-type {\n",
       "        vertical-align: middle;\n",
       "    }\n",
       "\n",
       "    .dataframe tbody tr th {\n",
       "        vertical-align: top;\n",
       "    }\n",
       "\n",
       "    .dataframe thead th {\n",
       "        text-align: right;\n",
       "    }\n",
       "</style>\n",
       "<table border=\"1\" class=\"dataframe\">\n",
       "  <thead>\n",
       "    <tr style=\"text-align: right;\">\n",
       "      <th></th>\n",
       "      <th>rank</th>\n",
       "      <th>team</th>\n",
       "      <th>matches_played</th>\n",
       "      <th>wins</th>\n",
       "      <th>drawns</th>\n",
       "      <th>losses</th>\n",
       "      <th>goals_for</th>\n",
       "      <th>goals_against</th>\n",
       "      <th>goals_diff</th>\n",
       "      <th>points</th>\n",
       "      <th>season</th>\n",
       "    </tr>\n",
       "  </thead>\n",
       "  <tbody>\n",
       "    <tr>\n",
       "      <th>0</th>\n",
       "      <td>1</td>\n",
       "      <td>Manchester City</td>\n",
       "      <td>38</td>\n",
       "      <td>32</td>\n",
       "      <td>2</td>\n",
       "      <td>4</td>\n",
       "      <td>95</td>\n",
       "      <td>23</td>\n",
       "      <td>72</td>\n",
       "      <td>98</td>\n",
       "      <td>2018/2019</td>\n",
       "    </tr>\n",
       "    <tr>\n",
       "      <th>20</th>\n",
       "      <td>1</td>\n",
       "      <td>Manchester City</td>\n",
       "      <td>38</td>\n",
       "      <td>32</td>\n",
       "      <td>4</td>\n",
       "      <td>2</td>\n",
       "      <td>106</td>\n",
       "      <td>27</td>\n",
       "      <td>79</td>\n",
       "      <td>100</td>\n",
       "      <td>2017/2018</td>\n",
       "    </tr>\n",
       "    <tr>\n",
       "      <th>40</th>\n",
       "      <td>1</td>\n",
       "      <td>Chelsea FC</td>\n",
       "      <td>38</td>\n",
       "      <td>30</td>\n",
       "      <td>3</td>\n",
       "      <td>5</td>\n",
       "      <td>85</td>\n",
       "      <td>33</td>\n",
       "      <td>52</td>\n",
       "      <td>93</td>\n",
       "      <td>2016/2017</td>\n",
       "    </tr>\n",
       "    <tr>\n",
       "      <th>60</th>\n",
       "      <td>1</td>\n",
       "      <td>Leicester City</td>\n",
       "      <td>38</td>\n",
       "      <td>23</td>\n",
       "      <td>12</td>\n",
       "      <td>3</td>\n",
       "      <td>68</td>\n",
       "      <td>36</td>\n",
       "      <td>32</td>\n",
       "      <td>81</td>\n",
       "      <td>2015/2016</td>\n",
       "    </tr>\n",
       "    <tr>\n",
       "      <th>80</th>\n",
       "      <td>1</td>\n",
       "      <td>Chelsea FC</td>\n",
       "      <td>38</td>\n",
       "      <td>26</td>\n",
       "      <td>9</td>\n",
       "      <td>3</td>\n",
       "      <td>73</td>\n",
       "      <td>32</td>\n",
       "      <td>41</td>\n",
       "      <td>87</td>\n",
       "      <td>2014/2015</td>\n",
       "    </tr>\n",
       "  </tbody>\n",
       "</table>\n",
       "</div>"
      ],
      "text/plain": [
       "    rank             team  matches_played  wins  drawns  losses  goals_for  \\\n",
       "0      1  Manchester City              38    32       2       4         95   \n",
       "20     1  Manchester City              38    32       4       2        106   \n",
       "40     1       Chelsea FC              38    30       3       5         85   \n",
       "60     1   Leicester City              38    23      12       3         68   \n",
       "80     1       Chelsea FC              38    26       9       3         73   \n",
       "\n",
       "    goals_against  goals_diff  points     season  \n",
       "0              23          72      98  2018/2019  \n",
       "20             27          79     100  2017/2018  \n",
       "40             33          52      93  2016/2017  \n",
       "60             36          32      81  2015/2016  \n",
       "80             32          41      87  2014/2015  "
      ]
     },
     "execution_count": 49,
     "metadata": {},
     "output_type": "execute_result"
    }
   ],
   "source": [
    "# show the leaders of the EPL after 38 matches\n",
    "leaders_38 = pl_tables_38[pl_tables_38['rank'] == 1]\n",
    "leaders_38.head()"
   ]
  },
  {
   "cell_type": "code",
   "execution_count": 50,
   "metadata": {},
   "outputs": [
    {
     "data": {
      "text/plain": [
       "{'yes': 14, 'no': 13}"
      ]
     },
     "execution_count": 50,
     "metadata": {},
     "output_type": "execute_result"
    }
   ],
   "source": [
    "# calculate the the number of the seasons that the leader's rank after 13 games match the winner of the title after 38 games. \n",
    "def leaders_match(x, y):    \n",
    "    both_leaders = {'yes': 0 , 'no': 0}\n",
    "    for i, j in zip(leaders_13.index, leaders_38.index):\n",
    "        if leaders_13.loc[i, 'team'] == leaders_38.loc[j, 'team']:\n",
    "            both_leaders['yes'] += 1 \n",
    "        else:\n",
    "            both_leaders['no'] += 1\n",
    "    return both_leaders\n",
    "        \n",
    "yes_or_no = leaders_match(leaders_13.index, leaders_38.index)\n",
    "yes_or_no"
   ]
  },
  {
   "cell_type": "markdown",
   "metadata": {},
   "source": [
    "From above we find that the leader after 13 games won the title 14 times. While lost 13 times. "
   ]
  },
  {
   "cell_type": "markdown",
   "metadata": {},
   "source": [
    "The approach we will follow to determine the probability of a team to win the title, by deviding the the number of the seasons, the the rank of the leader after 13 matches, matchs the leader after 38 matches (at the end of the season), by the total number of the seasons to date."
   ]
  },
  {
   "cell_type": "code",
   "execution_count": 51,
   "metadata": {},
   "outputs": [
    {
     "data": {
      "text/plain": [
       "'The chance of the leader after 13 matches to win the title is : 51.85 %'"
      ]
     },
     "execution_count": 51,
     "metadata": {},
     "output_type": "execute_result"
    }
   ],
   "source": [
    "percent = yes_or_no['yes'] / (yes_or_no['yes'] + yes_or_no['no']) * 100\n",
    "'The chance of the leader after 13 matches to win the title is : {:.2f} %'.format(percent)"
   ]
  },
  {
   "cell_type": "markdown",
   "metadata": {},
   "source": [
    "Based on the finding above we understand that the hypothesis we investigated led to the finding that, no preference given to the leader of the league after 13 games, in oreder to win the title at the end of the season."
   ]
  },
  {
   "cell_type": "code",
   "execution_count": 52,
   "metadata": {},
   "outputs": [],
   "source": [
    "pl_tables = pd.concat([pl_tables_13, pl_tables_38], axis = 0)\n",
    "pl_tables.to_csv('pl_tanles', encoding='utf-8', index=False)"
   ]
  },
  {
   "cell_type": "markdown",
   "metadata": {},
   "source": [
    "## Conclusion\n",
    "\n",
    "In this project we came to conclusion that:\n",
    "- The most winner of `EPL` title is `Manchester United` with `13` titles.\n",
    "- `Manchester United` has collected most points `cumulatively`. Also in this part we found out that `Arsenal Fc` came second place, despite the fact that `Arsenal FC` won less titles compared to `Chelsea FC` and `Mancheter City` who came second place and third place consecutively in the most winners of `EPL` title category.\n",
    "- We found out that `Derby County` in 2007/2008, `Sunderland AFC` in 2005/2006 and `Ipswich Town` in 1994/1995, are the teams with most losses during one season. And that accounts for loosing `76.32 %` of your games.\n",
    "- We also tried to predict the winner of league title with an assumption that the leader of the league after 13 matches will remain the same untill the end of the season. But we ended up finding out that a team has a low chance `51.85 %` of winning the title after being the leader after 13 games. Many factors involve in deciding who is the winner of the league, to name a few: Injuries, crowded schedule, players transfer, etc..."
   ]
  }
 ],
 "metadata": {
  "kernelspec": {
   "display_name": "Python 3",
   "language": "python",
   "name": "python3"
  },
  "language_info": {
   "codemirror_mode": {
    "name": "ipython",
    "version": 3
   },
   "file_extension": ".py",
   "mimetype": "text/x-python",
   "name": "python",
   "nbconvert_exporter": "python",
   "pygments_lexer": "ipython3",
   "version": "3.7.1"
  }
 },
 "nbformat": 4,
 "nbformat_minor": 2
}
